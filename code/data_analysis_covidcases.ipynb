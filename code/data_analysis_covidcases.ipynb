{
 "cells": [
  {
   "cell_type": "markdown",
   "metadata": {},
   "source": [
    "# Research Question - Can we see any relationship between the Covid-19 cases and biking/thefts in Ottawa and Vancouver"
   ]
  },
  {
   "cell_type": "markdown",
   "metadata": {},
   "source": [
    "Around March 2020 when Covid-19 hit Canada, many cities had announced lockdowns and banned any kind of gatherings. There was no outdoor activities allowed except walking and biking. Therefore the expectations are increased biking during the lockdowns. The analysis is based on datasets obtainined from the Ottawa City and Vancouver and British Columbia open data.\n",
    "\n",
    "- Vancouver Bike Theft: https://geodash.vpd.ca/opendata/\n",
    "- Vancouver Bike Volume: https://vancouver.ca/streets-transportation/how-we-collect-bike-volumes.aspx\n",
    "- Vancouver Covid Cases: http://www.bccdc.ca/health-info/diseases-conditions/covid-19/data\n",
    "\n",
    "- Ottawa Bike Tehft:  https://open.ottawa.ca/datasets/ottawa::bicycle-theft-1/about\n",
    "- Ottawa Bike Volume: https://open.ottawa.ca/documents/f218592c7fe74788906cc6a0eb190af9/about\n",
    "- Ottawa Covid Cases: https://open.ottawa.ca/datasets/ottawa::covid-19-cases-and-deaths-in-ottawa/about\n",
    "\n",
    "### Data Cleanup:\n",
    "- Covid cases data set was cleaned and exported to csv format. /data_sets/Ottawa_CovidCases.csv and /data_sets/Vancouver_CovidCases.csv\n",
    "- The relevant fields/data were identified and extracted. \n",
    "- Removed Nan/null values or replaces 0.\n",
    "\n",
    "\n",
    "### Exploratory Data Analysis\n",
    "\n",
    "#### Import Clean datasets    \n",
    "The cleaned up datasets was read and loaded into dataframes.\n",
    "\n",
    "#### Statistical Analysis of the data\n",
    "- The data was filtered for the year 2020 and month number column was added which was used as index later for month wise analysis\n",
    "- The statistics for the relevant column was obtained by describe function\n",
    "- Visualized a histogram of the relevant column to observe the spread of data\n",
    "\n",
    "#### Grouping of Data by Month\n",
    "- All the data was grouped by month and the sum/average of the relevant column was obtained\n",
    "- Correlation coeffiecient(st.pearsonr) for various data groups was obtained to determine relationship\n",
    "- Grouped data for summer months - May to October to observe the trends\n",
    "\n",
    "#### Visualization of Data\n",
    "- Line plots and scatter plots were used to observe relationship between Bike Volume vs COVID cases\n",
    "- Since the variation of data across topics was huge, the plots were done with 2 axes. For example, the left side represent Bike volume and right side represent Covid cases\n",
    "\n",
    "### Conclusion\n",
    "\n",
    "There was no strong relationship observed when data was considered across 2020. But some relationships were seen when considering only the summer months from May to October 2020.\n",
    "\n",
    "![Title](../analysis/CorrValues.png)\n",
    "\n",
    "In Ottawa, the biking was impacted by Covid. Bike volumes were less when there were more cases.\n",
    "\n",
    "In Vancouver, the thefts could be seen to increase with increase in covid cases.\n",
    "\n",
    "Compared to the biking trends of previous years, 2018 and 2019, 2020 also falls in the same pattern. However there is a decrease in the bike volume for 2020.COVID-19 maybe one of the reasons for this trend.\n",
    "(Ref : /code/data_analysis_BikeTheft_vs_BikeVolume.ipynb)\n"
   ]
  },
  {
   "cell_type": "code",
   "execution_count": 39,
   "metadata": {},
   "outputs": [],
   "source": [
    "import pandas as pd\n",
    "import scipy.stats as st\n",
    "from scipy.stats import linregress\n",
    "import matplotlib.pyplot as plt\n",
    "import calendar\n",
    "import datetime as dt\n",
    "#import seaborn as sns\n",
    "import numpy as np"
   ]
  },
  {
   "cell_type": "code",
   "execution_count": 40,
   "metadata": {},
   "outputs": [],
   "source": [
    "#Read data from the required cleaned files\n",
    "OttBikeRidersDF = pd.read_csv(\"../data_sets/OTT_BV_2018to2020.csv\")\n",
    "OttCovidDF = pd.read_csv(\"../data_sets/Ottawa_CovidCases.csv\")\n",
    "VcBikeRidersDF = pd.read_csv(\"../data_sets/VAC_BV_2018to2020.csv\")\n",
    "VcCovidDF = pd.read_csv(\"../data_sets/Vancouver_CoivdCases.csv\")"
   ]
  },
  {
   "cell_type": "markdown",
   "metadata": {},
   "source": [
    "### Ottawa - COVID-19 cases vs Bike Volume for 2020"
   ]
  },
  {
   "cell_type": "markdown",
   "metadata": {},
   "source": [
    "#### Statistical analysis - Ottawa bike volume data"
   ]
  },
  {
   "cell_type": "code",
   "execution_count": 41,
   "metadata": {},
   "outputs": [
    {
     "data": {
      "text/html": [
       "<div>\n",
       "<style scoped>\n",
       "    .dataframe tbody tr th:only-of-type {\n",
       "        vertical-align: middle;\n",
       "    }\n",
       "\n",
       "    .dataframe tbody tr th {\n",
       "        vertical-align: top;\n",
       "    }\n",
       "\n",
       "    .dataframe thead th {\n",
       "        text-align: right;\n",
       "    }\n",
       "</style>\n",
       "<table border=\"1\" class=\"dataframe\">\n",
       "  <thead>\n",
       "    <tr style=\"text-align: right;\">\n",
       "      <th></th>\n",
       "      <th>Date</th>\n",
       "      <th>Day of week</th>\n",
       "      <th>Day</th>\n",
       "      <th>Month</th>\n",
       "      <th>Year</th>\n",
       "      <th>Total Bike Volume</th>\n",
       "      <th>Month Number</th>\n",
       "    </tr>\n",
       "  </thead>\n",
       "  <tbody>\n",
       "    <tr>\n",
       "      <th>730</th>\n",
       "      <td>2020-01-01</td>\n",
       "      <td>Wed</td>\n",
       "      <td>1</td>\n",
       "      <td>Jan</td>\n",
       "      <td>2020</td>\n",
       "      <td>1022.0</td>\n",
       "      <td>1</td>\n",
       "    </tr>\n",
       "    <tr>\n",
       "      <th>731</th>\n",
       "      <td>2020-01-02</td>\n",
       "      <td>Thu</td>\n",
       "      <td>2</td>\n",
       "      <td>Jan</td>\n",
       "      <td>2020</td>\n",
       "      <td>1535.0</td>\n",
       "      <td>1</td>\n",
       "    </tr>\n",
       "    <tr>\n",
       "      <th>732</th>\n",
       "      <td>2020-01-03</td>\n",
       "      <td>Fri</td>\n",
       "      <td>3</td>\n",
       "      <td>Jan</td>\n",
       "      <td>2020</td>\n",
       "      <td>1649.0</td>\n",
       "      <td>1</td>\n",
       "    </tr>\n",
       "    <tr>\n",
       "      <th>733</th>\n",
       "      <td>2020-01-04</td>\n",
       "      <td>Sat</td>\n",
       "      <td>4</td>\n",
       "      <td>Jan</td>\n",
       "      <td>2020</td>\n",
       "      <td>1044.0</td>\n",
       "      <td>1</td>\n",
       "    </tr>\n",
       "    <tr>\n",
       "      <th>734</th>\n",
       "      <td>2020-01-05</td>\n",
       "      <td>Sun</td>\n",
       "      <td>5</td>\n",
       "      <td>Jan</td>\n",
       "      <td>2020</td>\n",
       "      <td>998.0</td>\n",
       "      <td>1</td>\n",
       "    </tr>\n",
       "    <tr>\n",
       "      <th>...</th>\n",
       "      <td>...</td>\n",
       "      <td>...</td>\n",
       "      <td>...</td>\n",
       "      <td>...</td>\n",
       "      <td>...</td>\n",
       "      <td>...</td>\n",
       "      <td>...</td>\n",
       "    </tr>\n",
       "    <tr>\n",
       "      <th>1091</th>\n",
       "      <td>2020-12-27</td>\n",
       "      <td>Sun</td>\n",
       "      <td>27</td>\n",
       "      <td>Dec</td>\n",
       "      <td>2020</td>\n",
       "      <td>1965.0</td>\n",
       "      <td>12</td>\n",
       "    </tr>\n",
       "    <tr>\n",
       "      <th>1092</th>\n",
       "      <td>2020-12-28</td>\n",
       "      <td>Mon</td>\n",
       "      <td>28</td>\n",
       "      <td>Dec</td>\n",
       "      <td>2020</td>\n",
       "      <td>1376.0</td>\n",
       "      <td>12</td>\n",
       "    </tr>\n",
       "    <tr>\n",
       "      <th>1093</th>\n",
       "      <td>2020-12-29</td>\n",
       "      <td>Tue</td>\n",
       "      <td>29</td>\n",
       "      <td>Dec</td>\n",
       "      <td>2020</td>\n",
       "      <td>2005.0</td>\n",
       "      <td>12</td>\n",
       "    </tr>\n",
       "    <tr>\n",
       "      <th>1094</th>\n",
       "      <td>2020-12-30</td>\n",
       "      <td>Wed</td>\n",
       "      <td>30</td>\n",
       "      <td>Dec</td>\n",
       "      <td>2020</td>\n",
       "      <td>1387.0</td>\n",
       "      <td>12</td>\n",
       "    </tr>\n",
       "    <tr>\n",
       "      <th>1095</th>\n",
       "      <td>2020-12-31</td>\n",
       "      <td>Thu</td>\n",
       "      <td>31</td>\n",
       "      <td>Dec</td>\n",
       "      <td>2020</td>\n",
       "      <td>1837.0</td>\n",
       "      <td>12</td>\n",
       "    </tr>\n",
       "  </tbody>\n",
       "</table>\n",
       "<p>366 rows × 7 columns</p>\n",
       "</div>"
      ],
      "text/plain": [
       "           Date Day of week  Day Month  Year  Total Bike Volume  Month Number\n",
       "730  2020-01-01         Wed    1   Jan  2020             1022.0             1\n",
       "731  2020-01-02         Thu    2   Jan  2020             1535.0             1\n",
       "732  2020-01-03         Fri    3   Jan  2020             1649.0             1\n",
       "733  2020-01-04         Sat    4   Jan  2020             1044.0             1\n",
       "734  2020-01-05         Sun    5   Jan  2020              998.0             1\n",
       "...         ...         ...  ...   ...   ...                ...           ...\n",
       "1091 2020-12-27         Sun   27   Dec  2020             1965.0            12\n",
       "1092 2020-12-28         Mon   28   Dec  2020             1376.0            12\n",
       "1093 2020-12-29         Tue   29   Dec  2020             2005.0            12\n",
       "1094 2020-12-30         Wed   30   Dec  2020             1387.0            12\n",
       "1095 2020-12-31         Thu   31   Dec  2020             1837.0            12\n",
       "\n",
       "[366 rows x 7 columns]"
      ]
     },
     "execution_count": 41,
     "metadata": {},
     "output_type": "execute_result"
    }
   ],
   "source": [
    "#Adding month number column and get only data for the year 2020\n",
    "reqOttBikeRidersDF = OttBikeRidersDF[['Date', 'Day of week', 'Day', 'Month', 'Year', 'Total Bike Volume']].copy()\n",
    "reqOttBikeRidersDF['Date'] = pd.to_datetime(reqOttBikeRidersDF['Date'])\n",
    "reqOttBikeRidersDF = reqOttBikeRidersDF.loc[(reqOttBikeRidersDF['Year'] == 2020)] \n",
    "reqOttBikeRidersDF['Month Number'] = pd.DatetimeIndex(reqOttBikeRidersDF['Date']).month\n",
    "reqOttBikeRidersDF"
   ]
  },
  {
   "cell_type": "code",
   "execution_count": 42,
   "metadata": {},
   "outputs": [
    {
     "data": {
      "text/plain": [
       "count      366.000000\n",
       "mean      6025.016393\n",
       "std       4579.778586\n",
       "min        527.000000\n",
       "25%       2040.000000\n",
       "50%       4322.000000\n",
       "75%       9718.250000\n",
       "max      19708.000000\n",
       "Name: Total Bike Volume, dtype: float64"
      ]
     },
     "execution_count": 42,
     "metadata": {},
     "output_type": "execute_result"
    }
   ],
   "source": [
    "#Statistical summary of Total bike volume\n",
    "reqOttBikeRidersDF['Total Bike Volume'].describe()"
   ]
  },
  {
   "cell_type": "code",
   "execution_count": 5,
   "metadata": {},
   "outputs": [
    {
     "data": {
      "text/plain": [
       "<AxesSubplot:title={'center':'Histogram of bike volume in Ottawa'}, ylabel='Frequency'>"
      ]
     },
     "execution_count": 5,
     "metadata": {},
     "output_type": "execute_result"
    },
    {
     "data": {
      "image/png": "[encoded data removed]",
      "text/plain": [
       "<Figure size 432x288 with 1 Axes>"
      ]
     },
     "metadata": {
      "needs_background": "light"
     },
     "output_type": "display_data"
    }
   ],
   "source": [
    "reqOttBikeRidersDF['Total Bike Volume'].plot(kind='hist', title='Histogram of bike volume in Ottawa')"
   ]
  },
  {
   "cell_type": "markdown",
   "metadata": {},
   "source": [
    "#### Ottawa bike volume grouped by months for 2020"
   ]
  },
  {
   "cell_type": "code",
   "execution_count": 6,
   "metadata": {},
   "outputs": [
    {
     "data": {
      "text/html": [
       "<div>\n",
       "<style scoped>\n",
       "    .dataframe tbody tr th:only-of-type {\n",
       "        vertical-align: middle;\n",
       "    }\n",
       "\n",
       "    .dataframe tbody tr th {\n",
       "        vertical-align: top;\n",
       "    }\n",
       "\n",
       "    .dataframe thead th {\n",
       "        text-align: right;\n",
       "    }\n",
       "</style>\n",
       "<table border=\"1\" class=\"dataframe\">\n",
       "  <thead>\n",
       "    <tr style=\"text-align: right;\">\n",
       "      <th></th>\n",
       "      <th>BikeVolume</th>\n",
       "      <th>Month</th>\n",
       "    </tr>\n",
       "    <tr>\n",
       "      <th>Month Number</th>\n",
       "      <th></th>\n",
       "      <th></th>\n",
       "    </tr>\n",
       "  </thead>\n",
       "  <tbody>\n",
       "    <tr>\n",
       "      <th>1</th>\n",
       "      <td>1611.483871</td>\n",
       "      <td>Jan</td>\n",
       "    </tr>\n",
       "    <tr>\n",
       "      <th>2</th>\n",
       "      <td>1558.620690</td>\n",
       "      <td>Feb</td>\n",
       "    </tr>\n",
       "    <tr>\n",
       "      <th>3</th>\n",
       "      <td>2443.322581</td>\n",
       "      <td>Mar</td>\n",
       "    </tr>\n",
       "    <tr>\n",
       "      <th>4</th>\n",
       "      <td>5087.966667</td>\n",
       "      <td>Apr</td>\n",
       "    </tr>\n",
       "    <tr>\n",
       "      <th>5</th>\n",
       "      <td>10526.258065</td>\n",
       "      <td>May</td>\n",
       "    </tr>\n",
       "    <tr>\n",
       "      <th>6</th>\n",
       "      <td>12082.366667</td>\n",
       "      <td>Jun</td>\n",
       "    </tr>\n",
       "    <tr>\n",
       "      <th>7</th>\n",
       "      <td>10908.258065</td>\n",
       "      <td>Jul</td>\n",
       "    </tr>\n",
       "    <tr>\n",
       "      <th>8</th>\n",
       "      <td>9549.354839</td>\n",
       "      <td>Aug</td>\n",
       "    </tr>\n",
       "    <tr>\n",
       "      <th>9</th>\n",
       "      <td>8311.033333</td>\n",
       "      <td>Sep</td>\n",
       "    </tr>\n",
       "    <tr>\n",
       "      <th>10</th>\n",
       "      <td>3624.419355</td>\n",
       "      <td>Oct</td>\n",
       "    </tr>\n",
       "    <tr>\n",
       "      <th>11</th>\n",
       "      <td>4597.466667</td>\n",
       "      <td>Nov</td>\n",
       "    </tr>\n",
       "    <tr>\n",
       "      <th>12</th>\n",
       "      <td>1904.354839</td>\n",
       "      <td>Dec</td>\n",
       "    </tr>\n",
       "  </tbody>\n",
       "</table>\n",
       "</div>"
      ],
      "text/plain": [
       "                BikeVolume Month\n",
       "Month Number                    \n",
       "1              1611.483871   Jan\n",
       "2              1558.620690   Feb\n",
       "3              2443.322581   Mar\n",
       "4              5087.966667   Apr\n",
       "5             10526.258065   May\n",
       "6             12082.366667   Jun\n",
       "7             10908.258065   Jul\n",
       "8              9549.354839   Aug\n",
       "9              8311.033333   Sep\n",
       "10             3624.419355   Oct\n",
       "11             4597.466667   Nov\n",
       "12             1904.354839   Dec"
      ]
     },
     "execution_count": 6,
     "metadata": {},
     "output_type": "execute_result"
    }
   ],
   "source": [
    "#Get the data grouped by month\n",
    "bikeDF = reqOttBikeRidersDF.groupby('Month Number').agg(BikeVolume = ('Total Bike Volume', np.mean), Month = ('Month', 'first')) \n",
    "bikeDF"
   ]
  },
  {
   "cell_type": "markdown",
   "metadata": {},
   "source": [
    "#### Statistical analysis - Ottawa Covid cases"
   ]
  },
  {
   "cell_type": "code",
   "execution_count": 7,
   "metadata": {},
   "outputs": [
    {
     "data": {
      "text/html": [
       "<div>\n",
       "<style scoped>\n",
       "    .dataframe tbody tr th:only-of-type {\n",
       "        vertical-align: middle;\n",
       "    }\n",
       "\n",
       "    .dataframe tbody tr th {\n",
       "        vertical-align: top;\n",
       "    }\n",
       "\n",
       "    .dataframe thead th {\n",
       "        text-align: right;\n",
       "    }\n",
       "</style>\n",
       "<table border=\"1\" class=\"dataframe\">\n",
       "  <thead>\n",
       "    <tr style=\"text-align: right;\">\n",
       "      <th></th>\n",
       "      <th>Date</th>\n",
       "      <th>Total_Active_Cases_by_Date</th>\n",
       "      <th>Daily_Cases_by_Reported_Date</th>\n",
       "      <th>Year</th>\n",
       "      <th>Month</th>\n",
       "      <th>Day</th>\n",
       "      <th>Weekday</th>\n",
       "    </tr>\n",
       "  </thead>\n",
       "  <tbody>\n",
       "    <tr>\n",
       "      <th>0</th>\n",
       "      <td>2020-02-10</td>\n",
       "      <td>1</td>\n",
       "      <td>0.0</td>\n",
       "      <td>2020</td>\n",
       "      <td>2</td>\n",
       "      <td>10</td>\n",
       "      <td>Monday</td>\n",
       "    </tr>\n",
       "    <tr>\n",
       "      <th>1</th>\n",
       "      <td>2020-02-11</td>\n",
       "      <td>1</td>\n",
       "      <td>0.0</td>\n",
       "      <td>2020</td>\n",
       "      <td>2</td>\n",
       "      <td>11</td>\n",
       "      <td>Tuesday</td>\n",
       "    </tr>\n",
       "    <tr>\n",
       "      <th>2</th>\n",
       "      <td>2020-02-12</td>\n",
       "      <td>1</td>\n",
       "      <td>0.0</td>\n",
       "      <td>2020</td>\n",
       "      <td>2</td>\n",
       "      <td>12</td>\n",
       "      <td>Wednesday</td>\n",
       "    </tr>\n",
       "    <tr>\n",
       "      <th>3</th>\n",
       "      <td>2020-02-13</td>\n",
       "      <td>1</td>\n",
       "      <td>0.0</td>\n",
       "      <td>2020</td>\n",
       "      <td>2</td>\n",
       "      <td>13</td>\n",
       "      <td>Thursday</td>\n",
       "    </tr>\n",
       "    <tr>\n",
       "      <th>4</th>\n",
       "      <td>2020-02-14</td>\n",
       "      <td>1</td>\n",
       "      <td>0.0</td>\n",
       "      <td>2020</td>\n",
       "      <td>2</td>\n",
       "      <td>14</td>\n",
       "      <td>Friday</td>\n",
       "    </tr>\n",
       "  </tbody>\n",
       "</table>\n",
       "</div>"
      ],
      "text/plain": [
       "         Date  Total_Active_Cases_by_Date  Daily_Cases_by_Reported_Date  Year  \\\n",
       "0  2020-02-10                           1                           0.0  2020   \n",
       "1  2020-02-11                           1                           0.0  2020   \n",
       "2  2020-02-12                           1                           0.0  2020   \n",
       "3  2020-02-13                           1                           0.0  2020   \n",
       "4  2020-02-14                           1                           0.0  2020   \n",
       "\n",
       "   Month  Day    Weekday  \n",
       "0      2   10     Monday  \n",
       "1      2   11    Tuesday  \n",
       "2      2   12  Wednesday  \n",
       "3      2   13   Thursday  \n",
       "4      2   14     Friday  "
      ]
     },
     "execution_count": 7,
     "metadata": {},
     "output_type": "execute_result"
    }
   ],
   "source": [
    "OttCovidDF.head()"
   ]
  },
  {
   "cell_type": "code",
   "execution_count": 8,
   "metadata": {},
   "outputs": [
    {
     "data": {
      "text/plain": [
       "count    493.000000\n",
       "mean      55.807302\n",
       "std       61.371465\n",
       "min        0.000000\n",
       "25%       15.000000\n",
       "50%       40.000000\n",
       "75%       74.000000\n",
       "max      403.000000\n",
       "Name: Daily_Cases_by_Reported_Date, dtype: float64"
      ]
     },
     "execution_count": 8,
     "metadata": {},
     "output_type": "execute_result"
    }
   ],
   "source": [
    "OttCovidDF['Daily_Cases_by_Reported_Date'].describe()"
   ]
  },
  {
   "cell_type": "code",
   "execution_count": 9,
   "metadata": {},
   "outputs": [
    {
     "data": {
      "image/png": "[encoded data removed]",
      "text/plain": [
       "<Figure size 432x288 with 1 Axes>"
      ]
     },
     "metadata": {
      "needs_background": "light"
     },
     "output_type": "display_data"
    }
   ],
   "source": [
    "plt.hist(OttCovidDF['Daily_Cases_by_Reported_Date'])\n",
    "plt.ylabel('Frequency')\n",
    "plt.title(\"Histogram of Covid cases in Ottawa\")\n",
    "plt.show()"
   ]
  },
  {
   "cell_type": "code",
   "execution_count": 43,
   "metadata": {},
   "outputs": [],
   "source": [
    "#Add an empty row for Jan to keep month column consistent with other datasets\n",
    "OttCovidDF.loc[493] = ['2020-01-01', 0, 0, 2020 ,1, 1, 'Wednesday']\n",
    "#Add month name to the dataframe\n",
    "OttCovidDF['Month Name'] = OttCovidDF['Month'].apply(lambda x: calendar.month_abbr[x])"
   ]
  },
  {
   "cell_type": "markdown",
   "metadata": {},
   "source": [
    "#### Ottawa Covid cases grouped by month for 2020"
   ]
  },
  {
   "cell_type": "code",
   "execution_count": 44,
   "metadata": {},
   "outputs": [
    {
     "data": {
      "text/html": [
       "<div>\n",
       "<style scoped>\n",
       "    .dataframe tbody tr th:only-of-type {\n",
       "        vertical-align: middle;\n",
       "    }\n",
       "\n",
       "    .dataframe tbody tr th {\n",
       "        vertical-align: top;\n",
       "    }\n",
       "\n",
       "    .dataframe thead th {\n",
       "        text-align: right;\n",
       "    }\n",
       "</style>\n",
       "<table border=\"1\" class=\"dataframe\">\n",
       "  <thead>\n",
       "    <tr style=\"text-align: right;\">\n",
       "      <th></th>\n",
       "      <th>TotalCases</th>\n",
       "      <th>MonthName</th>\n",
       "    </tr>\n",
       "    <tr>\n",
       "      <th>Month</th>\n",
       "      <th></th>\n",
       "      <th></th>\n",
       "    </tr>\n",
       "  </thead>\n",
       "  <tbody>\n",
       "    <tr>\n",
       "      <th>1</th>\n",
       "      <td>0.0</td>\n",
       "      <td>Jan</td>\n",
       "    </tr>\n",
       "    <tr>\n",
       "      <th>2</th>\n",
       "      <td>0.0</td>\n",
       "      <td>Feb</td>\n",
       "    </tr>\n",
       "    <tr>\n",
       "      <th>3</th>\n",
       "      <td>243.0</td>\n",
       "      <td>Mar</td>\n",
       "    </tr>\n",
       "    <tr>\n",
       "      <th>4</th>\n",
       "      <td>1185.0</td>\n",
       "      <td>Apr</td>\n",
       "    </tr>\n",
       "    <tr>\n",
       "      <th>5</th>\n",
       "      <td>526.0</td>\n",
       "      <td>May</td>\n",
       "    </tr>\n",
       "    <tr>\n",
       "      <th>6</th>\n",
       "      <td>145.0</td>\n",
       "      <td>Jun</td>\n",
       "    </tr>\n",
       "    <tr>\n",
       "      <th>7</th>\n",
       "      <td>444.0</td>\n",
       "      <td>Jul</td>\n",
       "    </tr>\n",
       "    <tr>\n",
       "      <th>8</th>\n",
       "      <td>430.0</td>\n",
       "      <td>Aug</td>\n",
       "    </tr>\n",
       "    <tr>\n",
       "      <th>9</th>\n",
       "      <td>1469.0</td>\n",
       "      <td>Sep</td>\n",
       "    </tr>\n",
       "    <tr>\n",
       "      <th>10</th>\n",
       "      <td>2687.0</td>\n",
       "      <td>Oct</td>\n",
       "    </tr>\n",
       "    <tr>\n",
       "      <th>11</th>\n",
       "      <td>1392.0</td>\n",
       "      <td>Nov</td>\n",
       "    </tr>\n",
       "    <tr>\n",
       "      <th>12</th>\n",
       "      <td>1630.0</td>\n",
       "      <td>Dec</td>\n",
       "    </tr>\n",
       "  </tbody>\n",
       "</table>\n",
       "</div>"
      ],
      "text/plain": [
       "       TotalCases MonthName\n",
       "Month                      \n",
       "1             0.0       Jan\n",
       "2             0.0       Feb\n",
       "3           243.0       Mar\n",
       "4          1185.0       Apr\n",
       "5           526.0       May\n",
       "6           145.0       Jun\n",
       "7           444.0       Jul\n",
       "8           430.0       Aug\n",
       "9          1469.0       Sep\n",
       "10         2687.0       Oct\n",
       "11         1392.0       Nov\n",
       "12         1630.0       Dec"
      ]
     },
     "execution_count": 44,
     "metadata": {},
     "output_type": "execute_result"
    }
   ],
   "source": [
    "#Get the data grouped by month\n",
    "OttGroupedCovidDF = OttCovidDF.loc[OttCovidDF['Year'] == 2020].groupby('Month').agg(TotalCases = ('Daily_Cases_by_Reported_Date' , np.sum), MonthName = ('Month Name', 'first'))\n",
    "OttGroupedCovidDF"
   ]
  },
  {
   "cell_type": "markdown",
   "metadata": {},
   "source": [
    "#### Line graphs for Covid cases vs Bike volume in Ottawa by months"
   ]
  },
  {
   "cell_type": "code",
   "execution_count": 45,
   "metadata": {
    "scrolled": true
   },
   "outputs": [
    {
     "data": {
      "image/png": "[encoded data removed]",
      "text/plain": [
       "<Figure size 576x288 with 2 Axes>"
      ]
     },
     "metadata": {},
     "output_type": "display_data"
    }
   ],
   "source": [
    "#plotting lines for the covid cases and bike volume\n",
    "fig, ax1 = plt.subplots()\n",
    "\n",
    "color = 'lightseagreen'\n",
    "ax1.set_xlabel('2020')\n",
    "ax1.set_ylabel('Average bike volume', color=color)\n",
    "ax1.plot(bikeDF['Month'], bikeDF['BikeVolume'], color=color, linewidth=2.5, label='Avg bike volume')\n",
    "ax1.tick_params(axis='y', labelcolor=color)\n",
    "\n",
    "ax2 = ax1.twinx()  # instantiate a second axes that shares the same x-axis\n",
    "\n",
    "color = 'dimgray'\n",
    "ax2.set_ylabel('Number of COVID-19 cases', color=color)  # we already handled the x-label with ax1\n",
    "ax2.plot(OttGroupedCovidDF['MonthName'], OttGroupedCovidDF['TotalCases'], color=color, linewidth=2.0, label='Number of COVID-19 cases')\n",
    "ax2.tick_params(axis='y', labelcolor=color)\n",
    "\n",
    "fig.tight_layout()  # otherwise the right y-label is slightly clipped\n",
    "plt.title('COVID-19 cases vs Avg bike volume for Ottawa - 2020')\n",
    "fig.set_size_inches(8, 4)\n",
    "\n",
    "lines_1, labels_1 = ax1.get_legend_handles_labels()\n",
    "lines_2, labels_2 = ax2.get_legend_handles_labels()\n",
    "\n",
    "lines = lines_1 + lines_2\n",
    "labels = labels_1 + labels_2\n",
    "ax1.legend(lines, labels, loc=2)\n",
    "plt.grid()\n",
    "plt.savefig(\"../analysis/OttBikeVolvsCOVID2020.png\")\n",
    "plt.show()"
   ]
  },
  {
   "cell_type": "markdown",
   "metadata": {},
   "source": [
    "#### Scatter plot for Covid cases vs Bike Volume in Ottawa"
   ]
  },
  {
   "cell_type": "code",
   "execution_count": 46,
   "metadata": {},
   "outputs": [
    {
     "name": "stdout",
     "output_type": "stream",
     "text": [
      "The correlation coefficient for bike volume and covid cases is -0.19\n"
     ]
    },
    {
     "data": {
      "image/png": "[encoded data removed]",
      "text/plain": [
       "<Figure size 432x288 with 1 Axes>"
      ]
     },
     "metadata": {
      "needs_background": "light"
     },
     "output_type": "display_data"
    }
   ],
   "source": [
    "#Scatter plot for covid cases and bike volume\n",
    "y = bikeDF['BikeVolume']\n",
    "x = OttGroupedCovidDF['TotalCases']\n",
    "\n",
    "correlation = st.pearsonr(x, y)\n",
    "print(f\"The correlation coefficient for bike volume and covid cases is {round(correlation[0],2)}\")\n",
    "\n",
    "plt.scatter(x, y, color='lightseagreen', s=100)\n",
    "plt.xlabel(\"Number of Covid Cases\")\n",
    "plt.ylabel(\"Avg bike volume\")\n",
    "plt.title('COVID-19 cases vs bike volume for Ottawa - 2020')\n",
    "\n",
    "(slope, intercept, rvalue, pvalue, stderr) = linregress(x,y)\n",
    "regress_values = x * slope + intercept\n",
    "line_eq = \"y = \" + str(round(slope,2)) + \"x + \" + str(round(intercept,2))\n",
    "plt.plot(x,regress_values,\"r-\")\n",
    "plt.annotate(line_eq,(1300,11500),fontsize=15,color=\"red\")\n",
    "\n",
    "plt.savefig(\"../analysis/OttBikeVolvsCOVID.png\")\n",
    "plt.show()"
   ]
  },
  {
   "cell_type": "markdown",
   "metadata": {},
   "source": [
    "#### Line graph for Covid cases vs Bike Volume for Ottawa by each day "
   ]
  },
  {
   "cell_type": "code",
   "execution_count": 47,
   "metadata": {},
   "outputs": [],
   "source": [
    "#temporary table to include day of year for the covid cases\n",
    "OttCovidDF['Date'] = pd.to_datetime(OttCovidDF['Date'])\n",
    "df = OttCovidDF.copy()\n",
    "df['Day of Year'] = OttCovidDF['Date'].dt.dayofyear\n",
    "df = df.loc[df['Year'] == 2020]\n",
    "df = df.loc[df['Day of Year'] > 50]\n",
    "\n",
    "#temporary table to include day of year for the bike volume\n",
    "rdf = reqOttBikeRidersDF.copy()\n",
    "rdf['Day of Year'] = rdf['Date'].dt.dayofyear\n",
    "rdf = rdf.loc[rdf['Year'] == 2020]\n",
    "rdf = rdf.loc[rdf['Day of Year'] > 50]\n"
   ]
  },
  {
   "cell_type": "code",
   "execution_count": 15,
   "metadata": {},
   "outputs": [
    {
     "name": "stdout",
     "output_type": "stream",
     "text": [
      "The correlation coefficient for bike volume and covid cases is -0.3\n"
     ]
    },
    {
     "data": {
      "image/png": "[encoded data removed]",
      "text/plain": [
       "<Figure size 1296x504 with 2 Axes>"
      ]
     },
     "metadata": {},
     "output_type": "display_data"
    }
   ],
   "source": [
    "#calculate the correlation\n",
    "correlation = st.pearsonr(rdf['Total Bike Volume'], df['Daily_Cases_by_Reported_Date'])\n",
    "print(f\"The correlation coefficient for bike volume and covid cases is {round(correlation[0],2)}\")\n",
    "\n",
    "fig, ax1 = plt.subplots()\n",
    "\n",
    "color = 'cornflowerblue'\n",
    "ax1.set_xlabel('Days of year 2020')\n",
    "ax1.set_ylabel('Bike Volume', color=color)\n",
    "#ax1.set_facecolor('transparent')\n",
    "ax1.plot(rdf['Day of Year'], rdf['Total Bike Volume'], color=color, linewidth=2.0, label='Bike Volume')\n",
    "ax1.tick_params(axis='y', labelcolor=color)\n",
    "\n",
    "# instantiate a second axes that shares the same x-axis\n",
    "ax2 = ax1.twinx()  \n",
    "\n",
    "color = 'dimgray'\n",
    "ax2.set_ylabel('Number of COVID-19 cases', color=color)  # we already handled the x-label with ax1\n",
    "ax2.plot(df['Day of Year'], df['Daily_Cases_by_Reported_Date'], color=color, linewidth=2.0, label='Number of COVID-19 cases')\n",
    "ax2.tick_params(axis='y', labelcolor=color)\n",
    "\n",
    "lines_1, labels_1 = ax1.get_legend_handles_labels()\n",
    "lines_2, labels_2 = ax2.get_legend_handles_labels()\n",
    "\n",
    "lines = lines_1 + lines_2\n",
    "labels = labels_1 + labels_2\n",
    "\n",
    "ax1.legend(lines, labels, loc=2)\n",
    "\n",
    "# otherwise the right y-label is slightly clipped\n",
    "fig.tight_layout()  \n",
    "plt\n",
    "plt.title('COVID-19 cases vs bike volume for Ottawa - day wise')\n",
    "plt.grid()\n",
    "fig.set_size_inches(18, 7)"
   ]
  },
  {
   "cell_type": "markdown",
   "metadata": {},
   "source": [
    "#### Ottawa Covid-19 cases vs bike volume for May to October"
   ]
  },
  {
   "cell_type": "code",
   "execution_count": 48,
   "metadata": {},
   "outputs": [
    {
     "data": {
      "text/html": [
       "<div>\n",
       "<style scoped>\n",
       "    .dataframe tbody tr th:only-of-type {\n",
       "        vertical-align: middle;\n",
       "    }\n",
       "\n",
       "    .dataframe tbody tr th {\n",
       "        vertical-align: top;\n",
       "    }\n",
       "\n",
       "    .dataframe thead th {\n",
       "        text-align: right;\n",
       "    }\n",
       "</style>\n",
       "<table border=\"1\" class=\"dataframe\">\n",
       "  <thead>\n",
       "    <tr style=\"text-align: right;\">\n",
       "      <th></th>\n",
       "      <th>TotalCases</th>\n",
       "      <th>MonthName</th>\n",
       "    </tr>\n",
       "    <tr>\n",
       "      <th>Month</th>\n",
       "      <th></th>\n",
       "      <th></th>\n",
       "    </tr>\n",
       "  </thead>\n",
       "  <tbody>\n",
       "    <tr>\n",
       "      <th>5</th>\n",
       "      <td>526.0</td>\n",
       "      <td>May</td>\n",
       "    </tr>\n",
       "    <tr>\n",
       "      <th>6</th>\n",
       "      <td>145.0</td>\n",
       "      <td>Jun</td>\n",
       "    </tr>\n",
       "    <tr>\n",
       "      <th>7</th>\n",
       "      <td>444.0</td>\n",
       "      <td>Jul</td>\n",
       "    </tr>\n",
       "    <tr>\n",
       "      <th>8</th>\n",
       "      <td>430.0</td>\n",
       "      <td>Aug</td>\n",
       "    </tr>\n",
       "    <tr>\n",
       "      <th>9</th>\n",
       "      <td>1469.0</td>\n",
       "      <td>Sep</td>\n",
       "    </tr>\n",
       "    <tr>\n",
       "      <th>10</th>\n",
       "      <td>2687.0</td>\n",
       "      <td>Oct</td>\n",
       "    </tr>\n",
       "  </tbody>\n",
       "</table>\n",
       "</div>"
      ],
      "text/plain": [
       "       TotalCases MonthName\n",
       "Month                      \n",
       "5           526.0       May\n",
       "6           145.0       Jun\n",
       "7           444.0       Jul\n",
       "8           430.0       Aug\n",
       "9          1469.0       Sep\n",
       "10         2687.0       Oct"
      ]
     },
     "execution_count": 48,
     "metadata": {},
     "output_type": "execute_result"
    }
   ],
   "source": [
    "# Extract data for months May to October\n",
    "OttGroupedCovidDF1 = OttGroupedCovidDF.iloc[4:10, :]\n",
    "OttGroupedCovidDF1"
   ]
  },
  {
   "cell_type": "code",
   "execution_count": 49,
   "metadata": {},
   "outputs": [
    {
     "data": {
      "text/html": [
       "<div>\n",
       "<style scoped>\n",
       "    .dataframe tbody tr th:only-of-type {\n",
       "        vertical-align: middle;\n",
       "    }\n",
       "\n",
       "    .dataframe tbody tr th {\n",
       "        vertical-align: top;\n",
       "    }\n",
       "\n",
       "    .dataframe thead th {\n",
       "        text-align: right;\n",
       "    }\n",
       "</style>\n",
       "<table border=\"1\" class=\"dataframe\">\n",
       "  <thead>\n",
       "    <tr style=\"text-align: right;\">\n",
       "      <th></th>\n",
       "      <th>BikeVolume</th>\n",
       "      <th>Month</th>\n",
       "    </tr>\n",
       "    <tr>\n",
       "      <th>Month Number</th>\n",
       "      <th></th>\n",
       "      <th></th>\n",
       "    </tr>\n",
       "  </thead>\n",
       "  <tbody>\n",
       "    <tr>\n",
       "      <th>5</th>\n",
       "      <td>10526.258065</td>\n",
       "      <td>May</td>\n",
       "    </tr>\n",
       "    <tr>\n",
       "      <th>6</th>\n",
       "      <td>12082.366667</td>\n",
       "      <td>Jun</td>\n",
       "    </tr>\n",
       "    <tr>\n",
       "      <th>7</th>\n",
       "      <td>10908.258065</td>\n",
       "      <td>Jul</td>\n",
       "    </tr>\n",
       "    <tr>\n",
       "      <th>8</th>\n",
       "      <td>9549.354839</td>\n",
       "      <td>Aug</td>\n",
       "    </tr>\n",
       "    <tr>\n",
       "      <th>9</th>\n",
       "      <td>8311.033333</td>\n",
       "      <td>Sep</td>\n",
       "    </tr>\n",
       "    <tr>\n",
       "      <th>10</th>\n",
       "      <td>3624.419355</td>\n",
       "      <td>Oct</td>\n",
       "    </tr>\n",
       "  </tbody>\n",
       "</table>\n",
       "</div>"
      ],
      "text/plain": [
       "                BikeVolume Month\n",
       "Month Number                    \n",
       "5             10526.258065   May\n",
       "6             12082.366667   Jun\n",
       "7             10908.258065   Jul\n",
       "8              9549.354839   Aug\n",
       "9              8311.033333   Sep\n",
       "10             3624.419355   Oct"
      ]
     },
     "execution_count": 49,
     "metadata": {},
     "output_type": "execute_result"
    }
   ],
   "source": [
    "bikeDF1= bikeDF.iloc[4:10, :]\n",
    "bikeDF1"
   ]
  },
  {
   "cell_type": "code",
   "execution_count": 50,
   "metadata": {},
   "outputs": [
    {
     "data": {
      "text/plain": [
       "Ttest_indResult(statistic=-1.8706453419004723, pvalue=0.08383145144419268)"
      ]
     },
     "execution_count": 50,
     "metadata": {},
     "output_type": "execute_result"
    }
   ],
   "source": [
    "#conducting t-test between 2020 data and May to Oct data\n",
    "# Note: Setting equal_var=False performs Welch's t-test which does \n",
    "# not assume equal population variance\n",
    "\n",
    "st.ttest_ind(bikeDF[\"BikeVolume\"], bikeDF1[\"BikeVolume\"], equal_var=False)"
   ]
  },
  {
   "cell_type": "code",
   "execution_count": 51,
   "metadata": {},
   "outputs": [
    {
     "data": {
      "image/png": "[encoded data removed]",
      "text/plain": [
       "<Figure size 720x360 with 2 Axes>"
      ]
     },
     "metadata": {},
     "output_type": "display_data"
    }
   ],
   "source": [
    "#Line plot for the months May to Oct for Ottawa bike volume vs covid cases\n",
    "fig, ax1 = plt.subplots()\n",
    "\n",
    "color = 'lightseagreen'\n",
    "ax1.set_xlabel('2020')\n",
    "ax1.set_ylabel('Average bike volume', color=color)\n",
    "#ax1.set_facecolor('transparent')\n",
    "ax1.plot(bikeDF1['Month'], bikeDF1['BikeVolume'], color=color, linewidth=2.0, label='Avg bike volume')\n",
    "ax1.tick_params(axis='y', labelcolor=color)\n",
    "\n",
    "# instantiate a second axes that shares the same x-axis\n",
    "ax2 = ax1.twinx()  \n",
    "\n",
    "color = 'dimgray'\n",
    "ax2.set_ylabel('Number of COVID-19 cases', color=color)  # we already handled the x-label with ax1\n",
    "ax2.plot(OttGroupedCovidDF1['MonthName'], OttGroupedCovidDF1['TotalCases'], color=color, linewidth=2.0, label='COVID-19 cases')\n",
    "ax2.tick_params(axis='y', labelcolor=color)\n",
    "\n",
    "lines_1, labels_1 = ax1.get_legend_handles_labels()\n",
    "lines_2, labels_2 = ax2.get_legend_handles_labels()\n",
    "\n",
    "lines = lines_1 + lines_2\n",
    "labels = labels_1 + labels_2\n",
    "\n",
    "ax1.legend(lines, labels, loc=2)\n",
    "\n",
    "# otherwise the right y-label is slightly clipped\n",
    "fig.tight_layout()  \n",
    "plt\n",
    "plt.title('COVID-19 cases vs bike volume for Ottawa - May to October')\n",
    "plt.grid()\n",
    "fig.set_size_inches(10, 5)\n",
    "plt.savefig(\"../analysis/OttBikeVolvsCovid-MayToOct1.png\")"
   ]
  },
  {
   "cell_type": "code",
   "execution_count": 20,
   "metadata": {},
   "outputs": [
    {
     "name": "stdout",
     "output_type": "stream",
     "text": [
      "The correlation coefficient for bike volume and covid cases is -0.97\n"
     ]
    },
    {
     "data": {
      "image/png": "[encoded data removed]",
      "text/plain": [
       "<Figure size 432x288 with 1 Axes>"
      ]
     },
     "metadata": {
      "needs_background": "light"
     },
     "output_type": "display_data"
    }
   ],
   "source": [
    "x = OttGroupedCovidDF1['TotalCases']\n",
    "y = bikeDF1['BikeVolume']\n",
    "\n",
    "#calculate the correlation\n",
    "correlation = st.pearsonr(x, y)\n",
    "print(f\"The correlation coefficient for bike volume and covid cases is {round(correlation[0],2)}\")\n",
    "\n",
    "plt.scatter(x, y, color='lightseagreen', s=200)\n",
    "plt.xlabel(\"Number of Covid Cases\")\n",
    "plt.ylabel(\"Avg bike volume\")\n",
    "plt.title('COVID-19 cases vs bike volume for Ottawa - May to October')\n",
    "\n",
    "(slope, intercept, rvalue, pvalue, stderr) = linregress(x,y)\n",
    "regress_values = x * slope + intercept\n",
    "line_eq = \"y = \" + str(round(slope,2)) + \"x + \" + str(round(intercept,2))\n",
    "plt.plot(x,regress_values,\"r-\")\n",
    "plt.annotate(line_eq,(1300,11500),fontsize=15,color=\"red\")\n",
    "\n",
    "plt.savefig(\"../analysis/OttBikeVolvsCovid-MayToOct.png\")\n",
    "plt.show()"
   ]
  },
  {
   "cell_type": "markdown",
   "metadata": {},
   "source": [
    "### Observation "
   ]
  },
  {
   "cell_type": "markdown",
   "metadata": {},
   "source": [
    "The correlation coefficient for bike volume and covid cases in Ottawa by each month is -0.19. This implies that there is no relationship between COVID-19 cases and bike volume for Ottawa. \n",
    "\n",
    "\n",
    "The correlation coefficient for each day is -0.3.\n",
    "\n",
    "The correlation coefficient for May-October is -0.97. This implies that as covid cases increased the bike volume decreased.\n",
    "This shows that covid could be one of the factors affecting biking Ottawa."
   ]
  },
  {
   "cell_type": "markdown",
   "metadata": {},
   "source": [
    "### Vancouver - COVID-19 cases vs Bike Volume "
   ]
  },
  {
   "cell_type": "markdown",
   "metadata": {},
   "source": [
    "#### Statistical Analysis - Vancouver bike volume data"
   ]
  },
  {
   "cell_type": "code",
   "execution_count": 52,
   "metadata": {},
   "outputs": [
    {
     "data": {
      "text/html": [
       "<div>\n",
       "<style scoped>\n",
       "    .dataframe tbody tr th:only-of-type {\n",
       "        vertical-align: middle;\n",
       "    }\n",
       "\n",
       "    .dataframe tbody tr th {\n",
       "        vertical-align: top;\n",
       "    }\n",
       "\n",
       "    .dataframe thead th {\n",
       "        text-align: right;\n",
       "    }\n",
       "</style>\n",
       "<table border=\"1\" class=\"dataframe\">\n",
       "  <thead>\n",
       "    <tr style=\"text-align: right;\">\n",
       "      <th></th>\n",
       "      <th>Date</th>\n",
       "      <th>Month-NonNumeric</th>\n",
       "      <th>Month</th>\n",
       "      <th>Year</th>\n",
       "      <th>Numeric Date</th>\n",
       "      <th>Total Bike Volume</th>\n",
       "    </tr>\n",
       "  </thead>\n",
       "  <tbody>\n",
       "    <tr>\n",
       "      <th>518</th>\n",
       "      <td>January 1, 2020</td>\n",
       "      <td>January</td>\n",
       "      <td>1</td>\n",
       "      <td>2020</td>\n",
       "      <td>2020-01-01</td>\n",
       "      <td>20846</td>\n",
       "    </tr>\n",
       "    <tr>\n",
       "      <th>519</th>\n",
       "      <td>January 2, 2020</td>\n",
       "      <td>January</td>\n",
       "      <td>1</td>\n",
       "      <td>2020</td>\n",
       "      <td>2020-01-02</td>\n",
       "      <td>10026</td>\n",
       "    </tr>\n",
       "    <tr>\n",
       "      <th>520</th>\n",
       "      <td>January 3, 2020</td>\n",
       "      <td>January</td>\n",
       "      <td>1</td>\n",
       "      <td>2020</td>\n",
       "      <td>2020-01-03</td>\n",
       "      <td>9830</td>\n",
       "    </tr>\n",
       "    <tr>\n",
       "      <th>521</th>\n",
       "      <td>January 4, 2020</td>\n",
       "      <td>January</td>\n",
       "      <td>1</td>\n",
       "      <td>2020</td>\n",
       "      <td>2020-01-04</td>\n",
       "      <td>14172</td>\n",
       "    </tr>\n",
       "    <tr>\n",
       "      <th>522</th>\n",
       "      <td>January 5, 2020</td>\n",
       "      <td>January</td>\n",
       "      <td>1</td>\n",
       "      <td>2020</td>\n",
       "      <td>2020-01-05</td>\n",
       "      <td>7058</td>\n",
       "    </tr>\n",
       "    <tr>\n",
       "      <th>...</th>\n",
       "      <td>...</td>\n",
       "      <td>...</td>\n",
       "      <td>...</td>\n",
       "      <td>...</td>\n",
       "      <td>...</td>\n",
       "      <td>...</td>\n",
       "    </tr>\n",
       "    <tr>\n",
       "      <th>879</th>\n",
       "      <td>December 27, 2020</td>\n",
       "      <td>December</td>\n",
       "      <td>12</td>\n",
       "      <td>2020</td>\n",
       "      <td>2020-12-27</td>\n",
       "      <td>7073</td>\n",
       "    </tr>\n",
       "    <tr>\n",
       "      <th>880</th>\n",
       "      <td>December 28, 2020</td>\n",
       "      <td>December</td>\n",
       "      <td>12</td>\n",
       "      <td>2020</td>\n",
       "      <td>2020-12-28</td>\n",
       "      <td>22423</td>\n",
       "    </tr>\n",
       "    <tr>\n",
       "      <th>881</th>\n",
       "      <td>December 29, 2020</td>\n",
       "      <td>December</td>\n",
       "      <td>12</td>\n",
       "      <td>2020</td>\n",
       "      <td>2020-12-29</td>\n",
       "      <td>10505</td>\n",
       "    </tr>\n",
       "    <tr>\n",
       "      <th>882</th>\n",
       "      <td>December 30, 2020</td>\n",
       "      <td>December</td>\n",
       "      <td>12</td>\n",
       "      <td>2020</td>\n",
       "      <td>2020-12-30</td>\n",
       "      <td>4297</td>\n",
       "    </tr>\n",
       "    <tr>\n",
       "      <th>883</th>\n",
       "      <td>December 31, 2020</td>\n",
       "      <td>December</td>\n",
       "      <td>12</td>\n",
       "      <td>2020</td>\n",
       "      <td>2020-12-31</td>\n",
       "      <td>12964</td>\n",
       "    </tr>\n",
       "  </tbody>\n",
       "</table>\n",
       "<p>366 rows × 6 columns</p>\n",
       "</div>"
      ],
      "text/plain": [
       "                  Date Month-NonNumeric  Month  Year Numeric Date  \\\n",
       "518    January 1, 2020          January      1  2020   2020-01-01   \n",
       "519    January 2, 2020          January      1  2020   2020-01-02   \n",
       "520    January 3, 2020          January      1  2020   2020-01-03   \n",
       "521    January 4, 2020          January      1  2020   2020-01-04   \n",
       "522    January 5, 2020          January      1  2020   2020-01-05   \n",
       "..                 ...              ...    ...   ...          ...   \n",
       "879  December 27, 2020         December     12  2020   2020-12-27   \n",
       "880  December 28, 2020         December     12  2020   2020-12-28   \n",
       "881  December 29, 2020         December     12  2020   2020-12-29   \n",
       "882  December 30, 2020         December     12  2020   2020-12-30   \n",
       "883  December 31, 2020         December     12  2020   2020-12-31   \n",
       "\n",
       "     Total Bike Volume  \n",
       "518              20846  \n",
       "519              10026  \n",
       "520               9830  \n",
       "521              14172  \n",
       "522               7058  \n",
       "..                 ...  \n",
       "879               7073  \n",
       "880              22423  \n",
       "881              10505  \n",
       "882               4297  \n",
       "883              12964  \n",
       "\n",
       "[366 rows x 6 columns]"
      ]
     },
     "execution_count": 52,
     "metadata": {},
     "output_type": "execute_result"
    }
   ],
   "source": [
    "reqVcBikerDF = VcBikeRidersDF[['Date', 'Month-NonNumeric', 'Month', 'Year', 'Numeric Date', 'Total Bike Volume']]\n",
    "reqVcBikerDF = reqVcBikerDF.loc[reqVcBikerDF['Year'] == 2020]\n",
    "reqVcBikerDF"
   ]
  },
  {
   "cell_type": "code",
   "execution_count": 53,
   "metadata": {},
   "outputs": [
    {
     "data": {
      "text/plain": [
       "count      366.000000\n",
       "mean     30792.248634\n",
       "std      18225.226847\n",
       "min       1009.000000\n",
       "25%      15266.000000\n",
       "50%      27324.000000\n",
       "75%      45247.750000\n",
       "max      79803.000000\n",
       "Name: Total Bike Volume, dtype: float64"
      ]
     },
     "execution_count": 53,
     "metadata": {},
     "output_type": "execute_result"
    }
   ],
   "source": [
    "reqVcBikerDF['Total Bike Volume'].describe()"
   ]
  },
  {
   "cell_type": "code",
   "execution_count": 54,
   "metadata": {},
   "outputs": [
    {
     "data": {
      "image/png": "[encoded data removed]",
      "text/plain": [
       "<Figure size 432x288 with 1 Axes>"
      ]
     },
     "metadata": {
      "needs_background": "light"
     },
     "output_type": "display_data"
    }
   ],
   "source": [
    "plt.hist(reqVcBikerDF['Total Bike Volume'])\n",
    "plt.ylabel('Frequency')\n",
    "plt.title(\"Histogram of bike volume in Vancouver\")\n",
    "plt.show()"
   ]
  },
  {
   "cell_type": "markdown",
   "metadata": {},
   "source": [
    "#### Vancouver bike volume grouped by month for 2020"
   ]
  },
  {
   "cell_type": "code",
   "execution_count": 55,
   "metadata": {},
   "outputs": [
    {
     "data": {
      "text/html": [
       "<div>\n",
       "<style scoped>\n",
       "    .dataframe tbody tr th:only-of-type {\n",
       "        vertical-align: middle;\n",
       "    }\n",
       "\n",
       "    .dataframe tbody tr th {\n",
       "        vertical-align: top;\n",
       "    }\n",
       "\n",
       "    .dataframe thead th {\n",
       "        text-align: right;\n",
       "    }\n",
       "</style>\n",
       "<table border=\"1\" class=\"dataframe\">\n",
       "  <thead>\n",
       "    <tr style=\"text-align: right;\">\n",
       "      <th></th>\n",
       "      <th>BikeVolume</th>\n",
       "      <th>MonthName</th>\n",
       "    </tr>\n",
       "    <tr>\n",
       "      <th>Month</th>\n",
       "      <th></th>\n",
       "      <th></th>\n",
       "    </tr>\n",
       "  </thead>\n",
       "  <tbody>\n",
       "    <tr>\n",
       "      <th>1</th>\n",
       "      <td>10267.580645</td>\n",
       "      <td>January</td>\n",
       "    </tr>\n",
       "    <tr>\n",
       "      <th>2</th>\n",
       "      <td>18197.793103</td>\n",
       "      <td>February</td>\n",
       "    </tr>\n",
       "    <tr>\n",
       "      <th>3</th>\n",
       "      <td>26021.129032</td>\n",
       "      <td>March</td>\n",
       "    </tr>\n",
       "    <tr>\n",
       "      <th>4</th>\n",
       "      <td>35499.066667</td>\n",
       "      <td>April</td>\n",
       "    </tr>\n",
       "    <tr>\n",
       "      <th>5</th>\n",
       "      <td>42856.032258</td>\n",
       "      <td>May</td>\n",
       "    </tr>\n",
       "    <tr>\n",
       "      <th>6</th>\n",
       "      <td>41420.766667</td>\n",
       "      <td>June</td>\n",
       "    </tr>\n",
       "    <tr>\n",
       "      <th>7</th>\n",
       "      <td>51963.225806</td>\n",
       "      <td>July</td>\n",
       "    </tr>\n",
       "    <tr>\n",
       "      <th>8</th>\n",
       "      <td>51389.451613</td>\n",
       "      <td>August</td>\n",
       "    </tr>\n",
       "    <tr>\n",
       "      <th>9</th>\n",
       "      <td>36334.966667</td>\n",
       "      <td>September</td>\n",
       "    </tr>\n",
       "    <tr>\n",
       "      <th>10</th>\n",
       "      <td>25215.354839</td>\n",
       "      <td>October</td>\n",
       "    </tr>\n",
       "    <tr>\n",
       "      <th>11</th>\n",
       "      <td>17009.433333</td>\n",
       "      <td>November</td>\n",
       "    </tr>\n",
       "    <tr>\n",
       "      <th>12</th>\n",
       "      <td>12748.516129</td>\n",
       "      <td>December</td>\n",
       "    </tr>\n",
       "  </tbody>\n",
       "</table>\n",
       "</div>"
      ],
      "text/plain": [
       "         BikeVolume  MonthName\n",
       "Month                         \n",
       "1      10267.580645    January\n",
       "2      18197.793103   February\n",
       "3      26021.129032      March\n",
       "4      35499.066667      April\n",
       "5      42856.032258        May\n",
       "6      41420.766667       June\n",
       "7      51963.225806       July\n",
       "8      51389.451613     August\n",
       "9      36334.966667  September\n",
       "10     25215.354839    October\n",
       "11     17009.433333   November\n",
       "12     12748.516129   December"
      ]
     },
     "execution_count": 55,
     "metadata": {},
     "output_type": "execute_result"
    }
   ],
   "source": [
    "Vc2020BikeDF = reqVcBikerDF.groupby('Month').agg(BikeVolume = ('Total Bike Volume', np.mean), MonthName = ('Month-NonNumeric', 'first'))\n",
    "Vc2020BikeDF"
   ]
  },
  {
   "cell_type": "markdown",
   "metadata": {},
   "source": [
    "#### Statistical Analysis - Covid cases in Vancouver"
   ]
  },
  {
   "cell_type": "code",
   "execution_count": 56,
   "metadata": {},
   "outputs": [
    {
     "data": {
      "text/html": [
       "<div>\n",
       "<style scoped>\n",
       "    .dataframe tbody tr th:only-of-type {\n",
       "        vertical-align: middle;\n",
       "    }\n",
       "\n",
       "    .dataframe tbody tr th {\n",
       "        vertical-align: top;\n",
       "    }\n",
       "\n",
       "    .dataframe thead th {\n",
       "        text-align: right;\n",
       "    }\n",
       "</style>\n",
       "<table border=\"1\" class=\"dataframe\">\n",
       "  <thead>\n",
       "    <tr style=\"text-align: right;\">\n",
       "      <th></th>\n",
       "      <th>Date</th>\n",
       "      <th>Province</th>\n",
       "      <th>HA</th>\n",
       "      <th>HSDA</th>\n",
       "      <th>Cases_Reported</th>\n",
       "      <th>Cases_Reported_Smoothed</th>\n",
       "      <th>Year</th>\n",
       "      <th>Month</th>\n",
       "      <th>Day</th>\n",
       "      <th>Day of Week</th>\n",
       "    </tr>\n",
       "  </thead>\n",
       "  <tbody>\n",
       "    <tr>\n",
       "      <th>0</th>\n",
       "      <td>2020-01-29</td>\n",
       "      <td>BC</td>\n",
       "      <td>Vancouver Coastal</td>\n",
       "      <td>Vancouver</td>\n",
       "      <td>0</td>\n",
       "      <td>0.0</td>\n",
       "      <td>2020</td>\n",
       "      <td>1</td>\n",
       "      <td>29</td>\n",
       "      <td>Wednesday</td>\n",
       "    </tr>\n",
       "    <tr>\n",
       "      <th>1</th>\n",
       "      <td>2020-01-29</td>\n",
       "      <td>BC</td>\n",
       "      <td>Vancouver Island</td>\n",
       "      <td>Central Vancouver Island</td>\n",
       "      <td>0</td>\n",
       "      <td>0.0</td>\n",
       "      <td>2020</td>\n",
       "      <td>1</td>\n",
       "      <td>29</td>\n",
       "      <td>Wednesday</td>\n",
       "    </tr>\n",
       "    <tr>\n",
       "      <th>2</th>\n",
       "      <td>2020-01-29</td>\n",
       "      <td>BC</td>\n",
       "      <td>Vancouver Island</td>\n",
       "      <td>North Vancouver Island</td>\n",
       "      <td>0</td>\n",
       "      <td>0.0</td>\n",
       "      <td>2020</td>\n",
       "      <td>1</td>\n",
       "      <td>29</td>\n",
       "      <td>Wednesday</td>\n",
       "    </tr>\n",
       "    <tr>\n",
       "      <th>3</th>\n",
       "      <td>2020-01-29</td>\n",
       "      <td>BC</td>\n",
       "      <td>Vancouver Island</td>\n",
       "      <td>South Vancouver Island</td>\n",
       "      <td>0</td>\n",
       "      <td>0.0</td>\n",
       "      <td>2020</td>\n",
       "      <td>1</td>\n",
       "      <td>29</td>\n",
       "      <td>Wednesday</td>\n",
       "    </tr>\n",
       "    <tr>\n",
       "      <th>4</th>\n",
       "      <td>2020-01-30</td>\n",
       "      <td>BC</td>\n",
       "      <td>Vancouver Coastal</td>\n",
       "      <td>Vancouver</td>\n",
       "      <td>0</td>\n",
       "      <td>0.0</td>\n",
       "      <td>2020</td>\n",
       "      <td>1</td>\n",
       "      <td>30</td>\n",
       "      <td>Thursday</td>\n",
       "    </tr>\n",
       "  </tbody>\n",
       "</table>\n",
       "</div>"
      ],
      "text/plain": [
       "         Date Province                 HA                      HSDA  \\\n",
       "0  2020-01-29       BC  Vancouver Coastal                 Vancouver   \n",
       "1  2020-01-29       BC   Vancouver Island  Central Vancouver Island   \n",
       "2  2020-01-29       BC   Vancouver Island    North Vancouver Island   \n",
       "3  2020-01-29       BC   Vancouver Island    South Vancouver Island   \n",
       "4  2020-01-30       BC  Vancouver Coastal                 Vancouver   \n",
       "\n",
       "   Cases_Reported  Cases_Reported_Smoothed  Year  Month  Day Day of Week  \n",
       "0               0                      0.0  2020      1   29   Wednesday  \n",
       "1               0                      0.0  2020      1   29   Wednesday  \n",
       "2               0                      0.0  2020      1   29   Wednesday  \n",
       "3               0                      0.0  2020      1   29   Wednesday  \n",
       "4               0                      0.0  2020      1   30    Thursday  "
      ]
     },
     "execution_count": 56,
     "metadata": {},
     "output_type": "execute_result"
    }
   ],
   "source": [
    "VcCovidDF.head()"
   ]
  },
  {
   "cell_type": "code",
   "execution_count": 57,
   "metadata": {},
   "outputs": [],
   "source": [
    "#Get Data grouped for a given date\n",
    "VcCovidDF = VcCovidDF.loc[VcCovidDF['Year'] == 2020]\n",
    "reqVcCodidData = VcCovidDF.groupby('Date')['Cases_Reported'].sum()"
   ]
  },
  {
   "cell_type": "code",
   "execution_count": 58,
   "metadata": {},
   "outputs": [
    {
     "data": {
      "text/plain": [
       "count    338.000000\n",
       "mean      27.721893\n",
       "std       35.399369\n",
       "min        0.000000\n",
       "25%        2.000000\n",
       "50%       12.000000\n",
       "75%       38.000000\n",
       "max      160.000000\n",
       "Name: Cases_Reported, dtype: float64"
      ]
     },
     "execution_count": 58,
     "metadata": {},
     "output_type": "execute_result"
    }
   ],
   "source": [
    "reqVcCodidData.describe()"
   ]
  },
  {
   "cell_type": "code",
   "execution_count": 59,
   "metadata": {},
   "outputs": [
    {
     "data": {
      "image/png": "[encoded data removed]",
      "text/plain": [
       "<Figure size 432x288 with 1 Axes>"
      ]
     },
     "metadata": {
      "needs_background": "light"
     },
     "output_type": "display_data"
    }
   ],
   "source": [
    "plt.hist(reqVcCodidData)\n",
    "plt.ylabel('Frequency')\n",
    "plt.title(\"Histogram of covid cases in Vancouver\")\n",
    "plt.show()"
   ]
  },
  {
   "cell_type": "markdown",
   "metadata": {},
   "source": [
    "#### Vancouver covid cases grouped by month for 2020"
   ]
  },
  {
   "cell_type": "code",
   "execution_count": 60,
   "metadata": {},
   "outputs": [
    {
     "data": {
      "text/html": [
       "<div>\n",
       "<style scoped>\n",
       "    .dataframe tbody tr th:only-of-type {\n",
       "        vertical-align: middle;\n",
       "    }\n",
       "\n",
       "    .dataframe tbody tr th {\n",
       "        vertical-align: top;\n",
       "    }\n",
       "\n",
       "    .dataframe thead th {\n",
       "        text-align: right;\n",
       "    }\n",
       "</style>\n",
       "<table border=\"1\" class=\"dataframe\">\n",
       "  <thead>\n",
       "    <tr style=\"text-align: right;\">\n",
       "      <th></th>\n",
       "      <th>TotalCases</th>\n",
       "      <th>MonthName</th>\n",
       "    </tr>\n",
       "    <tr>\n",
       "      <th>Month</th>\n",
       "      <th></th>\n",
       "      <th></th>\n",
       "    </tr>\n",
       "  </thead>\n",
       "  <tbody>\n",
       "    <tr>\n",
       "      <th>1</th>\n",
       "      <td>0</td>\n",
       "      <td>Jan</td>\n",
       "    </tr>\n",
       "    <tr>\n",
       "      <th>2</th>\n",
       "      <td>1</td>\n",
       "      <td>Feb</td>\n",
       "    </tr>\n",
       "    <tr>\n",
       "      <th>3</th>\n",
       "      <td>357</td>\n",
       "      <td>Mar</td>\n",
       "    </tr>\n",
       "    <tr>\n",
       "      <th>4</th>\n",
       "      <td>256</td>\n",
       "      <td>Apr</td>\n",
       "    </tr>\n",
       "    <tr>\n",
       "      <th>5</th>\n",
       "      <td>53</td>\n",
       "      <td>May</td>\n",
       "    </tr>\n",
       "    <tr>\n",
       "      <th>6</th>\n",
       "      <td>66</td>\n",
       "      <td>Jun</td>\n",
       "    </tr>\n",
       "    <tr>\n",
       "      <th>7</th>\n",
       "      <td>139</td>\n",
       "      <td>Jul</td>\n",
       "    </tr>\n",
       "    <tr>\n",
       "      <th>8</th>\n",
       "      <td>676</td>\n",
       "      <td>Aug</td>\n",
       "    </tr>\n",
       "    <tr>\n",
       "      <th>9</th>\n",
       "      <td>1095</td>\n",
       "      <td>Sep</td>\n",
       "    </tr>\n",
       "    <tr>\n",
       "      <th>10</th>\n",
       "      <td>1099</td>\n",
       "      <td>Oct</td>\n",
       "    </tr>\n",
       "    <tr>\n",
       "      <th>11</th>\n",
       "      <td>3186</td>\n",
       "      <td>Nov</td>\n",
       "    </tr>\n",
       "    <tr>\n",
       "      <th>12</th>\n",
       "      <td>2442</td>\n",
       "      <td>Dec</td>\n",
       "    </tr>\n",
       "  </tbody>\n",
       "</table>\n",
       "</div>"
      ],
      "text/plain": [
       "       TotalCases MonthName\n",
       "Month                      \n",
       "1               0       Jan\n",
       "2               1       Feb\n",
       "3             357       Mar\n",
       "4             256       Apr\n",
       "5              53       May\n",
       "6              66       Jun\n",
       "7             139       Jul\n",
       "8             676       Aug\n",
       "9            1095       Sep\n",
       "10           1099       Oct\n",
       "11           3186       Nov\n",
       "12           2442       Dec"
      ]
     },
     "execution_count": 60,
     "metadata": {},
     "output_type": "execute_result"
    }
   ],
   "source": [
    "VcCovidDF['Month Name'] = VcCovidDF['Month'].apply(lambda x: calendar.month_abbr[x])\n",
    "Vc2020CovidDF = VcCovidDF.groupby('Month').agg(TotalCases = ('Cases_Reported', sum), MonthName = ('Month Name', 'first'))\n",
    "Vc2020CovidDF"
   ]
  },
  {
   "cell_type": "code",
   "execution_count": 61,
   "metadata": {},
   "outputs": [
    {
     "data": {
      "text/html": [
       "<div>\n",
       "<style scoped>\n",
       "    .dataframe tbody tr th:only-of-type {\n",
       "        vertical-align: middle;\n",
       "    }\n",
       "\n",
       "    .dataframe tbody tr th {\n",
       "        vertical-align: top;\n",
       "    }\n",
       "\n",
       "    .dataframe thead th {\n",
       "        text-align: right;\n",
       "    }\n",
       "</style>\n",
       "<table border=\"1\" class=\"dataframe\">\n",
       "  <thead>\n",
       "    <tr style=\"text-align: right;\">\n",
       "      <th></th>\n",
       "      <th>TotalCases</th>\n",
       "      <th>MonthName</th>\n",
       "    </tr>\n",
       "    <tr>\n",
       "      <th>Month</th>\n",
       "      <th></th>\n",
       "      <th></th>\n",
       "    </tr>\n",
       "  </thead>\n",
       "  <tbody>\n",
       "    <tr>\n",
       "      <th>5</th>\n",
       "      <td>53</td>\n",
       "      <td>May</td>\n",
       "    </tr>\n",
       "    <tr>\n",
       "      <th>6</th>\n",
       "      <td>66</td>\n",
       "      <td>Jun</td>\n",
       "    </tr>\n",
       "    <tr>\n",
       "      <th>7</th>\n",
       "      <td>139</td>\n",
       "      <td>Jul</td>\n",
       "    </tr>\n",
       "    <tr>\n",
       "      <th>8</th>\n",
       "      <td>676</td>\n",
       "      <td>Aug</td>\n",
       "    </tr>\n",
       "    <tr>\n",
       "      <th>9</th>\n",
       "      <td>1095</td>\n",
       "      <td>Sep</td>\n",
       "    </tr>\n",
       "    <tr>\n",
       "      <th>10</th>\n",
       "      <td>1099</td>\n",
       "      <td>Oct</td>\n",
       "    </tr>\n",
       "  </tbody>\n",
       "</table>\n",
       "</div>"
      ],
      "text/plain": [
       "       TotalCases MonthName\n",
       "Month                      \n",
       "5              53       May\n",
       "6              66       Jun\n",
       "7             139       Jul\n",
       "8             676       Aug\n",
       "9            1095       Sep\n",
       "10           1099       Oct"
      ]
     },
     "execution_count": 61,
     "metadata": {},
     "output_type": "execute_result"
    }
   ],
   "source": [
    "Vc2020CovidDF1 = Vc2020CovidDF.iloc[4:10, :]\n",
    "Vc2020CovidDF1"
   ]
  },
  {
   "cell_type": "code",
   "execution_count": 62,
   "metadata": {},
   "outputs": [
    {
     "data": {
      "text/html": [
       "<div>\n",
       "<style scoped>\n",
       "    .dataframe tbody tr th:only-of-type {\n",
       "        vertical-align: middle;\n",
       "    }\n",
       "\n",
       "    .dataframe tbody tr th {\n",
       "        vertical-align: top;\n",
       "    }\n",
       "\n",
       "    .dataframe thead th {\n",
       "        text-align: right;\n",
       "    }\n",
       "</style>\n",
       "<table border=\"1\" class=\"dataframe\">\n",
       "  <thead>\n",
       "    <tr style=\"text-align: right;\">\n",
       "      <th></th>\n",
       "      <th>BikeVolume</th>\n",
       "      <th>MonthName</th>\n",
       "    </tr>\n",
       "    <tr>\n",
       "      <th>Month</th>\n",
       "      <th></th>\n",
       "      <th></th>\n",
       "    </tr>\n",
       "  </thead>\n",
       "  <tbody>\n",
       "    <tr>\n",
       "      <th>5</th>\n",
       "      <td>42856.032258</td>\n",
       "      <td>May</td>\n",
       "    </tr>\n",
       "    <tr>\n",
       "      <th>6</th>\n",
       "      <td>41420.766667</td>\n",
       "      <td>June</td>\n",
       "    </tr>\n",
       "    <tr>\n",
       "      <th>7</th>\n",
       "      <td>51963.225806</td>\n",
       "      <td>July</td>\n",
       "    </tr>\n",
       "    <tr>\n",
       "      <th>8</th>\n",
       "      <td>51389.451613</td>\n",
       "      <td>August</td>\n",
       "    </tr>\n",
       "    <tr>\n",
       "      <th>9</th>\n",
       "      <td>36334.966667</td>\n",
       "      <td>September</td>\n",
       "    </tr>\n",
       "    <tr>\n",
       "      <th>10</th>\n",
       "      <td>25215.354839</td>\n",
       "      <td>October</td>\n",
       "    </tr>\n",
       "  </tbody>\n",
       "</table>\n",
       "</div>"
      ],
      "text/plain": [
       "         BikeVolume  MonthName\n",
       "Month                         \n",
       "5      42856.032258        May\n",
       "6      41420.766667       June\n",
       "7      51963.225806       July\n",
       "8      51389.451613     August\n",
       "9      36334.966667  September\n",
       "10     25215.354839    October"
      ]
     },
     "execution_count": 62,
     "metadata": {},
     "output_type": "execute_result"
    }
   ],
   "source": [
    "Vc2020BikeDF1 = Vc2020BikeDF.iloc[4:10, :]\n",
    "Vc2020BikeDF1"
   ]
  },
  {
   "cell_type": "markdown",
   "metadata": {},
   "source": [
    "#### Line graph for Bike Volume vs COVID-19 cases for each month"
   ]
  },
  {
   "cell_type": "code",
   "execution_count": 63,
   "metadata": {},
   "outputs": [
    {
     "data": {
      "image/png": "[encoded data removed]",
      "text/plain": [
       "<Figure size 720x360 with 2 Axes>"
      ]
     },
     "metadata": {
      "needs_background": "light"
     },
     "output_type": "display_data"
    }
   ],
   "source": [
    "#plotting lines for the covid cases and bike volume\n",
    "fig, ax1 = plt.subplots()\n",
    "\n",
    "color = 'tab:red'\n",
    "ax1.set_xlabel('2020')\n",
    "ax1.set_ylabel('Average bike volume', color=color)\n",
    "ax1.plot(Vc2020BikeDF['MonthName'], Vc2020BikeDF['BikeVolume'], color=color, linewidth=2.0, label=\"Avg bike volume\")\n",
    "ax1.tick_params(axis='y', labelcolor=color)\n",
    "\n",
    "# instantiate a second axes that shares the same x-axis\n",
    "ax2 = ax1.twinx()  \n",
    "\n",
    "color = 'dimgray'\n",
    "ax2.set_ylabel('Number of COVID-19 cases', color=color)  # we already handled the x-label with ax1\n",
    "ax2.plot(Vc2020CovidDF['MonthName'], Vc2020CovidDF['TotalCases'], color=color, linewidth=2.0, label=\"Number of COVID-19 cases\" )\n",
    "ax2.tick_params(axis='y', labelcolor=color)\n",
    "\n",
    "# otherwise the right y-label is slightly clipped\n",
    "fig.tight_layout()  \n",
    "plt.title('COVID-19 cases vs Avg bike volume for Vancouver - 2020')\n",
    "\n",
    "lines_1, labels_1 = ax1.get_legend_handles_labels()\n",
    "lines_2, labels_2 = ax2.get_legend_handles_labels()\n",
    "\n",
    "lines = lines_1 + lines_2\n",
    "labels = labels_1 + labels_2\n",
    "\n",
    "ax1.legend(lines, labels, loc=2)\n",
    "\n",
    "plt.grid()\n",
    "fig.set_size_inches(10, 5)\n",
    "plt.savefig(\"../analysis/CovidVsBikVol_Vancouver.png\")\n",
    "plt.show()"
   ]
  },
  {
   "cell_type": "markdown",
   "metadata": {},
   "source": [
    "#### Scatter plot for Bike Volume vs Covid cases for each month"
   ]
  },
  {
   "cell_type": "code",
   "execution_count": 64,
   "metadata": {},
   "outputs": [
    {
     "name": "stdout",
     "output_type": "stream",
     "text": [
      "The correlation coefficient for bike volume and covid cases is -0.18\n"
     ]
    },
    {
     "data": {
      "image/png": "[encoded data removed]",
      "text/plain": [
       "<Figure size 432x288 with 1 Axes>"
      ]
     },
     "metadata": {
      "needs_background": "light"
     },
     "output_type": "display_data"
    }
   ],
   "source": [
    "#Scatter plot for covid cases and bike volume\n",
    "y = Vc2020BikeDF['BikeVolume']\n",
    "x = OttGroupedCovidDF['TotalCases']\n",
    "\n",
    "correlation = st.pearsonr(x,y)\n",
    "print(f\"The correlation coefficient for bike volume and covid cases is {round(correlation[0],2)}\")\n",
    "\n",
    "plt.scatter(x, y, color='crimson', s=100, alpha=0.4)\n",
    "plt.xlabel(\"Number of Covid Cases\")\n",
    "plt.ylabel(\"Avg bike volume\")\n",
    "plt.title('COVID-19 cases vs bike volume for Vancouver - 2020')\n",
    "\n",
    "(slope, intercept, rvalue, pvalue, stderr) = linregress(x,y)\n",
    "regress_values = x * slope + intercept\n",
    "line_eq = \"y = \" + str(round(slope,2)) + \"x + \" + str(round(intercept,2))\n",
    "plt.plot(x,regress_values,\"r-\", color='red')\n",
    "plt.annotate(line_eq,(1200,50000),fontsize=15,color=\"red\")\n",
    "\n",
    "plt.savefig(\"../analysis/VcBikeVolvsCOVID.png\")\n",
    "plt.show()"
   ]
  },
  {
   "cell_type": "markdown",
   "metadata": {},
   "source": [
    "#### Line plots for Covid-19 cases vs bike volume for Vancouver - May to October"
   ]
  },
  {
   "cell_type": "code",
   "execution_count": 34,
   "metadata": {},
   "outputs": [
    {
     "data": {
      "image/png": "[encoded data removed]",
      "text/plain": [
       "<Figure size 720x360 with 2 Axes>"
      ]
     },
     "metadata": {
      "needs_background": "light"
     },
     "output_type": "display_data"
    }
   ],
   "source": [
    "#Line plot for the months May to Oct for Vancouver bike volume vs covid cases\n",
    "fig, ax1 = plt.subplots()\n",
    "\n",
    "color = 'crimson'\n",
    "ax1.set_xlabel('2020')\n",
    "ax1.set_ylabel('Average bike volume', color=color)\n",
    "#ax1.set_facecolor('transparent')\n",
    "ax1.plot(Vc2020BikeDF1['MonthName'], Vc2020BikeDF1['BikeVolume'], color=color, linewidth=2.0, label='Avg bike volume')\n",
    "ax1.tick_params(axis='y', labelcolor=color)\n",
    "\n",
    "# instantiate a second axes that shares the same x-axis\n",
    "ax2 = ax1.twinx()  \n",
    "\n",
    "color = 'dimgray'\n",
    "ax2.set_ylabel('Number of COVID-19 cases', color=color)  # we already handled the x-label with ax1\n",
    "ax2.plot(Vc2020CovidDF1['MonthName'], Vc2020CovidDF1['TotalCases'], color=color, linewidth=2.0, label='COVID-19 cases')\n",
    "ax2.tick_params(axis='y', labelcolor=color)\n",
    "\n",
    "lines_1, labels_1 = ax1.get_legend_handles_labels()\n",
    "lines_2, labels_2 = ax2.get_legend_handles_labels()\n",
    "\n",
    "lines = lines_1 + lines_2\n",
    "labels = labels_1 + labels_2\n",
    "\n",
    "ax1.legend(lines, labels, loc=2)\n",
    "\n",
    "# otherwise the right y-label is slightly clipped\n",
    "fig.tight_layout()  \n",
    "plt\n",
    "plt.title('COVID-19 cases vs bike volume for Vancouver - May to October')\n",
    "plt.grid()\n",
    "fig.set_size_inches(10, 5)\n",
    "plt.savefig(\"../analysis/VcBikeVolvsCovid-MayToOct1.png\")"
   ]
  },
  {
   "cell_type": "markdown",
   "metadata": {},
   "source": [
    "#### Scatter plot for Covid cases vs bike volume for Vancouver - May to October"
   ]
  },
  {
   "cell_type": "code",
   "execution_count": 65,
   "metadata": {},
   "outputs": [
    {
     "name": "stdout",
     "output_type": "stream",
     "text": [
      "The correlation coefficient for bike volume and covid cases is -0.61\n"
     ]
    },
    {
     "data": {
      "image/png": "[encoded data removed]",
      "text/plain": [
       "<Figure size 432x288 with 1 Axes>"
      ]
     },
     "metadata": {
      "needs_background": "light"
     },
     "output_type": "display_data"
    }
   ],
   "source": [
    "#Scatter plot for covid cases and bike volume\n",
    "y = Vc2020BikeDF1['BikeVolume']\n",
    "x = Vc2020CovidDF1['TotalCases']\n",
    "\n",
    "correlation = st.pearsonr(x,y)\n",
    "print(f\"The correlation coefficient for bike volume and covid cases is {round(correlation[0],2)}\")\n",
    "\n",
    "plt.scatter(x, y, color='crimson', s=100, alpha=0.4)\n",
    "plt.xlabel(\"Number of Covid Cases\")\n",
    "plt.ylabel(\"Avg bike volume\")\n",
    "plt.title('COVID-19 cases vs bike volume for Vancouver - May to October')\n",
    "\n",
    "(slope, intercept, rvalue, pvalue, stderr) = linregress(x,y)\n",
    "regress_values = x * slope + intercept\n",
    "line_eq = \"y = \" + str(round(slope,2)) + \"x + \" + str(round(intercept,2))\n",
    "plt.plot(x,regress_values,\"r-\", color='red')\n",
    "plt.annotate(line_eq,(10,25000),fontsize=15,color=\"red\")\n",
    "\n",
    "plt.savefig(\"../analysis/VcBikeVolvsCOVID_MayToOct.png\")\n",
    "plt.show()"
   ]
  },
  {
   "cell_type": "markdown",
   "metadata": {},
   "source": [
    "### Observation"
   ]
  },
  {
   "cell_type": "markdown",
   "metadata": {},
   "source": [
    "The correlation coefficient for bike volume and covid cases for Vancouver for 2020 is -0.18. This implies that there is no relationship between COVID-19 cases and bike riders on road for Vancouver.\n",
    "\n",
    "The same for months May-October is -0.61. This implies the trend towards the decrease in bike volume with increase in covid cases."
   ]
  },
  {
   "cell_type": "markdown",
   "metadata": {},
   "source": [
    "## Ottawa - Covid-19 cases vs bike thefts"
   ]
  },
  {
   "cell_type": "code",
   "execution_count": 66,
   "metadata": {},
   "outputs": [
    {
     "data": {
      "text/html": [
       "<div>\n",
       "<style scoped>\n",
       "    .dataframe tbody tr th:only-of-type {\n",
       "        vertical-align: middle;\n",
       "    }\n",
       "\n",
       "    .dataframe tbody tr th {\n",
       "        vertical-align: top;\n",
       "    }\n",
       "\n",
       "    .dataframe thead th {\n",
       "        text-align: right;\n",
       "    }\n",
       "</style>\n",
       "<table border=\"1\" class=\"dataframe\">\n",
       "  <thead>\n",
       "    <tr style=\"text-align: right;\">\n",
       "      <th></th>\n",
       "      <th>Incident_StartDate</th>\n",
       "      <th>YEAR</th>\n",
       "      <th>MONTH</th>\n",
       "      <th>DAY</th>\n",
       "      <th>WEEKDAY</th>\n",
       "      <th>X</th>\n",
       "      <th>Y</th>\n",
       "      <th>LAT</th>\n",
       "      <th>LNG</th>\n",
       "      <th>Month Name</th>\n",
       "    </tr>\n",
       "  </thead>\n",
       "  <tbody>\n",
       "    <tr>\n",
       "      <th>0</th>\n",
       "      <td>2018-05-17</td>\n",
       "      <td>2018</td>\n",
       "      <td>5</td>\n",
       "      <td>17</td>\n",
       "      <td>Thursday</td>\n",
       "      <td>362989.6811</td>\n",
       "      <td>5015885.441</td>\n",
       "      <td>45.283108</td>\n",
       "      <td>-76.746999</td>\n",
       "      <td>May</td>\n",
       "    </tr>\n",
       "    <tr>\n",
       "      <th>1</th>\n",
       "      <td>2018-06-15</td>\n",
       "      <td>2018</td>\n",
       "      <td>6</td>\n",
       "      <td>15</td>\n",
       "      <td>Friday</td>\n",
       "      <td>363095.6819</td>\n",
       "      <td>5015986.442</td>\n",
       "      <td>45.284038</td>\n",
       "      <td>-76.745676</td>\n",
       "      <td>Jun</td>\n",
       "    </tr>\n",
       "    <tr>\n",
       "      <th>2</th>\n",
       "      <td>2018-09-20</td>\n",
       "      <td>2018</td>\n",
       "      <td>9</td>\n",
       "      <td>20</td>\n",
       "      <td>Thursday</td>\n",
       "      <td>362193.6729</td>\n",
       "      <td>5014083.423</td>\n",
       "      <td>45.266740</td>\n",
       "      <td>-76.756644</td>\n",
       "      <td>Sep</td>\n",
       "    </tr>\n",
       "    <tr>\n",
       "      <th>3</th>\n",
       "      <td>2019-05-06</td>\n",
       "      <td>2019</td>\n",
       "      <td>5</td>\n",
       "      <td>6</td>\n",
       "      <td>Monday</td>\n",
       "      <td>362524.6789</td>\n",
       "      <td>5016024.441</td>\n",
       "      <td>45.284268</td>\n",
       "      <td>-76.752964</td>\n",
       "      <td>May</td>\n",
       "    </tr>\n",
       "    <tr>\n",
       "      <th>4</th>\n",
       "      <td>2019-05-13</td>\n",
       "      <td>2019</td>\n",
       "      <td>5</td>\n",
       "      <td>13</td>\n",
       "      <td>Monday</td>\n",
       "      <td>362132.6740</td>\n",
       "      <td>5014518.427</td>\n",
       "      <td>45.270641</td>\n",
       "      <td>-76.757542</td>\n",
       "      <td>May</td>\n",
       "    </tr>\n",
       "  </tbody>\n",
       "</table>\n",
       "</div>"
      ],
      "text/plain": [
       "  Incident_StartDate  YEAR  MONTH  DAY   WEEKDAY            X            Y  \\\n",
       "0         2018-05-17  2018      5   17  Thursday  362989.6811  5015885.441   \n",
       "1         2018-06-15  2018      6   15    Friday  363095.6819  5015986.442   \n",
       "2         2018-09-20  2018      9   20  Thursday  362193.6729  5014083.423   \n",
       "3         2019-05-06  2019      5    6    Monday  362524.6789  5016024.441   \n",
       "4         2019-05-13  2019      5   13    Monday  362132.6740  5014518.427   \n",
       "\n",
       "         LAT        LNG Month Name  \n",
       "0  45.283108 -76.746999        May  \n",
       "1  45.284038 -76.745676        Jun  \n",
       "2  45.266740 -76.756644        Sep  \n",
       "3  45.284268 -76.752964        May  \n",
       "4  45.270641 -76.757542        May  "
      ]
     },
     "execution_count": 66,
     "metadata": {},
     "output_type": "execute_result"
    }
   ],
   "source": [
    "OttawaBikeTheft = pd.read_csv(\"../data_sets/o_theft_clean.csv\")\n",
    "OttawaBikeTheft['Incident_StartDate'] = pd.to_datetime(OttawaBikeTheft['Incident_StartDate'])\n",
    "OttawaBikeTheft['Month Name'] = OttawaBikeTheft['MONTH'].apply(lambda x: calendar.month_abbr[x])\n",
    "OttawaBikeTheft.head()                              "
   ]
  },
  {
   "cell_type": "markdown",
   "metadata": {},
   "source": [
    "#### Ottawa bike thefts grouped by months"
   ]
  },
  {
   "cell_type": "code",
   "execution_count": 68,
   "metadata": {},
   "outputs": [
    {
     "data": {
      "text/html": [
       "<div>\n",
       "<style scoped>\n",
       "    .dataframe tbody tr th:only-of-type {\n",
       "        vertical-align: middle;\n",
       "    }\n",
       "\n",
       "    .dataframe tbody tr th {\n",
       "        vertical-align: top;\n",
       "    }\n",
       "\n",
       "    .dataframe thead th {\n",
       "        text-align: right;\n",
       "    }\n",
       "</style>\n",
       "<table border=\"1\" class=\"dataframe\">\n",
       "  <thead>\n",
       "    <tr style=\"text-align: right;\">\n",
       "      <th></th>\n",
       "      <th>Thefts</th>\n",
       "      <th>MonthName</th>\n",
       "    </tr>\n",
       "    <tr>\n",
       "      <th>MONTH</th>\n",
       "      <th></th>\n",
       "      <th></th>\n",
       "    </tr>\n",
       "  </thead>\n",
       "  <tbody>\n",
       "    <tr>\n",
       "      <th>1</th>\n",
       "      <td>13</td>\n",
       "      <td>Jan</td>\n",
       "    </tr>\n",
       "    <tr>\n",
       "      <th>2</th>\n",
       "      <td>7</td>\n",
       "      <td>Feb</td>\n",
       "    </tr>\n",
       "    <tr>\n",
       "      <th>3</th>\n",
       "      <td>23</td>\n",
       "      <td>Mar</td>\n",
       "    </tr>\n",
       "    <tr>\n",
       "      <th>4</th>\n",
       "      <td>69</td>\n",
       "      <td>Apr</td>\n",
       "    </tr>\n",
       "    <tr>\n",
       "      <th>5</th>\n",
       "      <td>76</td>\n",
       "      <td>May</td>\n",
       "    </tr>\n",
       "    <tr>\n",
       "      <th>6</th>\n",
       "      <td>134</td>\n",
       "      <td>Jun</td>\n",
       "    </tr>\n",
       "    <tr>\n",
       "      <th>7</th>\n",
       "      <td>177</td>\n",
       "      <td>Jul</td>\n",
       "    </tr>\n",
       "    <tr>\n",
       "      <th>8</th>\n",
       "      <td>144</td>\n",
       "      <td>Aug</td>\n",
       "    </tr>\n",
       "    <tr>\n",
       "      <th>9</th>\n",
       "      <td>121</td>\n",
       "      <td>Sep</td>\n",
       "    </tr>\n",
       "    <tr>\n",
       "      <th>10</th>\n",
       "      <td>115</td>\n",
       "      <td>Oct</td>\n",
       "    </tr>\n",
       "    <tr>\n",
       "      <th>11</th>\n",
       "      <td>65</td>\n",
       "      <td>Nov</td>\n",
       "    </tr>\n",
       "    <tr>\n",
       "      <th>12</th>\n",
       "      <td>18</td>\n",
       "      <td>Dec</td>\n",
       "    </tr>\n",
       "  </tbody>\n",
       "</table>\n",
       "</div>"
      ],
      "text/plain": [
       "       Thefts MonthName\n",
       "MONTH                  \n",
       "1          13       Jan\n",
       "2           7       Feb\n",
       "3          23       Mar\n",
       "4          69       Apr\n",
       "5          76       May\n",
       "6         134       Jun\n",
       "7         177       Jul\n",
       "8         144       Aug\n",
       "9         121       Sep\n",
       "10        115       Oct\n",
       "11         65       Nov\n",
       "12         18       Dec"
      ]
     },
     "execution_count": 68,
     "metadata": {},
     "output_type": "execute_result"
    }
   ],
   "source": [
    "#Get the theft data grouped by month for year 2020\n",
    "OttTheftDF2020 = OttawaBikeTheft.loc[OttawaBikeTheft['YEAR'] == 2020].groupby('MONTH').agg(Thefts = ('DAY', 'count'), MonthName = ('Month Name', 'first'))\n",
    "OttTheftDF2020"
   ]
  },
  {
   "cell_type": "code",
   "execution_count": 69,
   "metadata": {},
   "outputs": [
    {
     "data": {
      "text/html": [
       "<div>\n",
       "<style scoped>\n",
       "    .dataframe tbody tr th:only-of-type {\n",
       "        vertical-align: middle;\n",
       "    }\n",
       "\n",
       "    .dataframe tbody tr th {\n",
       "        vertical-align: top;\n",
       "    }\n",
       "\n",
       "    .dataframe thead th {\n",
       "        text-align: right;\n",
       "    }\n",
       "</style>\n",
       "<table border=\"1\" class=\"dataframe\">\n",
       "  <thead>\n",
       "    <tr style=\"text-align: right;\">\n",
       "      <th></th>\n",
       "      <th>Thefts</th>\n",
       "      <th>MonthName</th>\n",
       "    </tr>\n",
       "    <tr>\n",
       "      <th>MONTH</th>\n",
       "      <th></th>\n",
       "      <th></th>\n",
       "    </tr>\n",
       "  </thead>\n",
       "  <tbody>\n",
       "    <tr>\n",
       "      <th>5</th>\n",
       "      <td>76</td>\n",
       "      <td>May</td>\n",
       "    </tr>\n",
       "    <tr>\n",
       "      <th>6</th>\n",
       "      <td>134</td>\n",
       "      <td>Jun</td>\n",
       "    </tr>\n",
       "    <tr>\n",
       "      <th>7</th>\n",
       "      <td>177</td>\n",
       "      <td>Jul</td>\n",
       "    </tr>\n",
       "    <tr>\n",
       "      <th>8</th>\n",
       "      <td>144</td>\n",
       "      <td>Aug</td>\n",
       "    </tr>\n",
       "    <tr>\n",
       "      <th>9</th>\n",
       "      <td>121</td>\n",
       "      <td>Sep</td>\n",
       "    </tr>\n",
       "    <tr>\n",
       "      <th>10</th>\n",
       "      <td>115</td>\n",
       "      <td>Oct</td>\n",
       "    </tr>\n",
       "  </tbody>\n",
       "</table>\n",
       "</div>"
      ],
      "text/plain": [
       "       Thefts MonthName\n",
       "MONTH                  \n",
       "5          76       May\n",
       "6         134       Jun\n",
       "7         177       Jul\n",
       "8         144       Aug\n",
       "9         121       Sep\n",
       "10        115       Oct"
      ]
     },
     "execution_count": 69,
     "metadata": {},
     "output_type": "execute_result"
    }
   ],
   "source": [
    "#Filtering data for May to Oct\n",
    "OttTheftDF1 = OttTheftDF2020.iloc[4:10, :]\n",
    "OttTheftDF1"
   ]
  },
  {
   "cell_type": "code",
   "execution_count": 72,
   "metadata": {},
   "outputs": [
    {
     "name": "stdout",
     "output_type": "stream",
     "text": [
      "The correlation coefficient for bike volume and covid cases for 2020 is 0.15\n"
     ]
    }
   ],
   "source": [
    "#Theft vs Covid cases for 2020 in Ottawa\n",
    "correlation = st.pearsonr(OttTheftDF2020['Thefts'], OttGroupedCovidDF['TotalCases'])\n",
    "print(f\"The correlation coefficient for bike volume and covid cases for 2020 is {round(correlation[0],2)}\")"
   ]
  },
  {
   "cell_type": "markdown",
   "metadata": {},
   "source": [
    "#### Line graph for number of bike thefts and covid cases for Ottawa"
   ]
  },
  {
   "cell_type": "code",
   "execution_count": 73,
   "metadata": {},
   "outputs": [
    {
     "data": {
      "image/png": "[encoded data removed]",
      "text/plain": [
       "<Figure size 720x360 with 2 Axes>"
      ]
     },
     "metadata": {
      "needs_background": "light"
     },
     "output_type": "display_data"
    }
   ],
   "source": [
    "#plotting lines for the covid cases and number of bike thefts\n",
    "#calculate the correlation\n",
    "\n",
    "fig, ax1 = plt.subplots()\n",
    "\n",
    "color = 'forestgreen'\n",
    "ax1.set_xlabel('2020')\n",
    "ax1.set_ylabel('Number of Bike Thefts', color=color)\n",
    "ax1.plot(OttTheftDF1['MonthName'], OttTheftDF1['Thefts'], color=color, linewidth=2.0, label='Number of bike thefts')\n",
    "ax1.tick_params(axis='y', labelcolor=color)\n",
    "\n",
    "# instantiate a second axes that shares the same x-axis\n",
    "ax2 = ax1.twinx()  \n",
    "\n",
    "color = 'dimgray'\n",
    "ax2.set_ylabel('Number of COVID-19 cases', color=color)  # we already handled the x-label with ax1\n",
    "ax2.plot(OttGroupedCovidDF1['MonthName'], OttGroupedCovidDF1['TotalCases'], color=color, linewidth=2.0, label='Number of COVID-19 cases')\n",
    "ax2.tick_params(axis='y', labelcolor=color)\n",
    "\n",
    "# otherwise the right y-label is slightly clipped\n",
    "fig.tight_layout()  \n",
    "plt.title('COVID-19 cases vs Number of bike thefts for Ottawa - May - October')\n",
    "plt.grid()\n",
    "fig.set_size_inches(10, 5)\n",
    "\n",
    "lines_1, labels_1 = ax1.get_legend_handles_labels()\n",
    "lines_2, labels_2 = ax2.get_legend_handles_labels()\n",
    "\n",
    "lines = lines_1 + lines_2\n",
    "labels = labels_1 + labels_2\n",
    "\n",
    "ax1.legend(lines, labels, loc=2)\n",
    "plt.savefig(\"../analysis/CovidVsBikerThefts_OttawaMay-Oct.png\")\n",
    "plt.show()"
   ]
  },
  {
   "cell_type": "code",
   "execution_count": 74,
   "metadata": {},
   "outputs": [
    {
     "name": "stdout",
     "output_type": "stream",
     "text": [
      "The correlation coefficient for bike thefts and covid cases between may and october is -0.26\n"
     ]
    },
    {
     "data": {
      "image/png": "[encoded data removed]",
      "text/plain": [
       "<Figure size 432x288 with 1 Axes>"
      ]
     },
     "metadata": {
      "needs_background": "light"
     },
     "output_type": "display_data"
    }
   ],
   "source": [
    "#Scatter plot for covid cases and bike volume\n",
    "y = OttTheftDF1['Thefts']\n",
    "x = OttGroupedCovidDF1['TotalCases']\n",
    "\n",
    "correlation = st.pearsonr(x,y)\n",
    "print(f\"The correlation coefficient for bike thefts and covid cases between may and october is {round(correlation[0],2)}\")\n",
    "\n",
    "plt.scatter(x, y, color='green', s=100, alpha=0.8)\n",
    "plt.xlabel(\"Number of Covid Cases\")\n",
    "plt.ylabel(\"Number of bike thefts\")\n",
    "plt.title('COVID-19 cases vs bike volume for Ottawa - May to October')\n",
    "\n",
    "(slope, intercept, rvalue, pvalue, stderr) = linregress(x,y)\n",
    "regress_values = x * slope + intercept\n",
    "\n",
    "line_eq = \"y = \" + str(round(slope,2)) + \"x + \" + str(round(intercept,2))\n",
    "plt.plot(x,regress_values,\"r-\", color='red')\n",
    "plt.annotate(line_eq,(1200,170),fontsize=15,color=\"red\")\n",
    "\n",
    "plt.savefig(\"../analysis/OttBikeTheftvsCOVIDMayOct.png\")\n",
    "plt.show()"
   ]
  },
  {
   "cell_type": "markdown",
   "metadata": {},
   "source": [
    "### Observation "
   ]
  },
  {
   "cell_type": "markdown",
   "metadata": {},
   "source": [
    "The correlation coefficient for bike thefts and covid cases in Ottawa for 2020 is 0.15. The same is -0.26 for May- October. \n",
    "\n",
    "This implies that there is no strong relationship between COVID-19 cases and bike thefts for Ottawa."
   ]
  },
  {
   "cell_type": "markdown",
   "metadata": {},
   "source": [
    "## Vancouver - COVID-19 cases vs bike thefts"
   ]
  },
  {
   "cell_type": "code",
   "execution_count": 75,
   "metadata": {},
   "outputs": [
    {
     "data": {
      "text/html": [
       "<div>\n",
       "<style scoped>\n",
       "    .dataframe tbody tr th:only-of-type {\n",
       "        vertical-align: middle;\n",
       "    }\n",
       "\n",
       "    .dataframe tbody tr th {\n",
       "        vertical-align: top;\n",
       "    }\n",
       "\n",
       "    .dataframe thead th {\n",
       "        text-align: right;\n",
       "    }\n",
       "</style>\n",
       "<table border=\"1\" class=\"dataframe\">\n",
       "  <thead>\n",
       "    <tr style=\"text-align: right;\">\n",
       "      <th></th>\n",
       "      <th>Incident_Date</th>\n",
       "      <th>YEAR</th>\n",
       "      <th>MONTH</th>\n",
       "      <th>DAY</th>\n",
       "      <th>WEEKDAY</th>\n",
       "      <th>X</th>\n",
       "      <th>Y</th>\n",
       "      <th>LAT</th>\n",
       "      <th>LNG</th>\n",
       "      <th>Month Name</th>\n",
       "    </tr>\n",
       "  </thead>\n",
       "  <tbody>\n",
       "    <tr>\n",
       "      <th>0</th>\n",
       "      <td>2018-07-29</td>\n",
       "      <td>2018</td>\n",
       "      <td>7</td>\n",
       "      <td>29</td>\n",
       "      <td>Sunday</td>\n",
       "      <td>491104.2910</td>\n",
       "      <td>5.459077e+06</td>\n",
       "      <td>49.284384</td>\n",
       "      <td>-123.122320</td>\n",
       "      <td>Jul</td>\n",
       "    </tr>\n",
       "    <tr>\n",
       "      <th>1</th>\n",
       "      <td>2019-08-05</td>\n",
       "      <td>2019</td>\n",
       "      <td>8</td>\n",
       "      <td>5</td>\n",
       "      <td>Monday</td>\n",
       "      <td>490847.1395</td>\n",
       "      <td>5.458873e+06</td>\n",
       "      <td>49.282539</td>\n",
       "      <td>-123.125851</td>\n",
       "      <td>Aug</td>\n",
       "    </tr>\n",
       "    <tr>\n",
       "      <th>2</th>\n",
       "      <td>2019-09-12</td>\n",
       "      <td>2019</td>\n",
       "      <td>9</td>\n",
       "      <td>12</td>\n",
       "      <td>Thursday</td>\n",
       "      <td>490863.9836</td>\n",
       "      <td>5.458842e+06</td>\n",
       "      <td>49.282263</td>\n",
       "      <td>-123.125618</td>\n",
       "      <td>Sep</td>\n",
       "    </tr>\n",
       "    <tr>\n",
       "      <th>3</th>\n",
       "      <td>2018-06-03</td>\n",
       "      <td>2018</td>\n",
       "      <td>6</td>\n",
       "      <td>3</td>\n",
       "      <td>Sunday</td>\n",
       "      <td>490903.5756</td>\n",
       "      <td>5.458801e+06</td>\n",
       "      <td>49.281892</td>\n",
       "      <td>-123.125073</td>\n",
       "      <td>Jun</td>\n",
       "    </tr>\n",
       "    <tr>\n",
       "      <th>4</th>\n",
       "      <td>2018-06-05</td>\n",
       "      <td>2018</td>\n",
       "      <td>6</td>\n",
       "      <td>5</td>\n",
       "      <td>Tuesday</td>\n",
       "      <td>490903.5756</td>\n",
       "      <td>5.458801e+06</td>\n",
       "      <td>49.281892</td>\n",
       "      <td>-123.125073</td>\n",
       "      <td>Jun</td>\n",
       "    </tr>\n",
       "  </tbody>\n",
       "</table>\n",
       "</div>"
      ],
      "text/plain": [
       "  Incident_Date  YEAR  MONTH  DAY   WEEKDAY            X             Y  \\\n",
       "0    2018-07-29  2018      7   29    Sunday  491104.2910  5.459077e+06   \n",
       "1    2019-08-05  2019      8    5    Monday  490847.1395  5.458873e+06   \n",
       "2    2019-09-12  2019      9   12  Thursday  490863.9836  5.458842e+06   \n",
       "3    2018-06-03  2018      6    3    Sunday  490903.5756  5.458801e+06   \n",
       "4    2018-06-05  2018      6    5   Tuesday  490903.5756  5.458801e+06   \n",
       "\n",
       "         LAT         LNG Month Name  \n",
       "0  49.284384 -123.122320        Jul  \n",
       "1  49.282539 -123.125851        Aug  \n",
       "2  49.282263 -123.125618        Sep  \n",
       "3  49.281892 -123.125073        Jun  \n",
       "4  49.281892 -123.125073        Jun  "
      ]
     },
     "execution_count": 75,
     "metadata": {},
     "output_type": "execute_result"
    }
   ],
   "source": [
    "VanBikeThefts = pd.read_csv(\"..//data_sets/v_theft_clean.csv\")\n",
    "VanBikeThefts['Incident_Date'] = pd.to_datetime(VanBikeThefts['Incident_Date'])\n",
    "VanBikeThefts['Month Name'] = VanBikeThefts['MONTH'].apply(lambda x: calendar.month_abbr[x])\n",
    "VanBikeThefts.head()"
   ]
  },
  {
   "cell_type": "markdown",
   "metadata": {},
   "source": [
    "#### Vancouver bike thefts grouped by months "
   ]
  },
  {
   "cell_type": "code",
   "execution_count": 76,
   "metadata": {},
   "outputs": [
    {
     "data": {
      "text/html": [
       "<div>\n",
       "<style scoped>\n",
       "    .dataframe tbody tr th:only-of-type {\n",
       "        vertical-align: middle;\n",
       "    }\n",
       "\n",
       "    .dataframe tbody tr th {\n",
       "        vertical-align: top;\n",
       "    }\n",
       "\n",
       "    .dataframe thead th {\n",
       "        text-align: right;\n",
       "    }\n",
       "</style>\n",
       "<table border=\"1\" class=\"dataframe\">\n",
       "  <thead>\n",
       "    <tr style=\"text-align: right;\">\n",
       "      <th></th>\n",
       "      <th>Thefts</th>\n",
       "      <th>MonthName</th>\n",
       "    </tr>\n",
       "    <tr>\n",
       "      <th>MONTH</th>\n",
       "      <th></th>\n",
       "      <th></th>\n",
       "    </tr>\n",
       "  </thead>\n",
       "  <tbody>\n",
       "    <tr>\n",
       "      <th>1</th>\n",
       "      <td>67</td>\n",
       "      <td>Jan</td>\n",
       "    </tr>\n",
       "    <tr>\n",
       "      <th>2</th>\n",
       "      <td>97</td>\n",
       "      <td>Feb</td>\n",
       "    </tr>\n",
       "    <tr>\n",
       "      <th>3</th>\n",
       "      <td>108</td>\n",
       "      <td>Mar</td>\n",
       "    </tr>\n",
       "    <tr>\n",
       "      <th>4</th>\n",
       "      <td>171</td>\n",
       "      <td>Apr</td>\n",
       "    </tr>\n",
       "    <tr>\n",
       "      <th>5</th>\n",
       "      <td>148</td>\n",
       "      <td>May</td>\n",
       "    </tr>\n",
       "    <tr>\n",
       "      <th>6</th>\n",
       "      <td>197</td>\n",
       "      <td>Jun</td>\n",
       "    </tr>\n",
       "    <tr>\n",
       "      <th>7</th>\n",
       "      <td>243</td>\n",
       "      <td>Jul</td>\n",
       "    </tr>\n",
       "    <tr>\n",
       "      <th>8</th>\n",
       "      <td>268</td>\n",
       "      <td>Aug</td>\n",
       "    </tr>\n",
       "    <tr>\n",
       "      <th>9</th>\n",
       "      <td>249</td>\n",
       "      <td>Sep</td>\n",
       "    </tr>\n",
       "    <tr>\n",
       "      <th>10</th>\n",
       "      <td>223</td>\n",
       "      <td>Oct</td>\n",
       "    </tr>\n",
       "    <tr>\n",
       "      <th>11</th>\n",
       "      <td>131</td>\n",
       "      <td>Nov</td>\n",
       "    </tr>\n",
       "    <tr>\n",
       "      <th>12</th>\n",
       "      <td>79</td>\n",
       "      <td>Dec</td>\n",
       "    </tr>\n",
       "  </tbody>\n",
       "</table>\n",
       "</div>"
      ],
      "text/plain": [
       "       Thefts MonthName\n",
       "MONTH                  \n",
       "1          67       Jan\n",
       "2          97       Feb\n",
       "3         108       Mar\n",
       "4         171       Apr\n",
       "5         148       May\n",
       "6         197       Jun\n",
       "7         243       Jul\n",
       "8         268       Aug\n",
       "9         249       Sep\n",
       "10        223       Oct\n",
       "11        131       Nov\n",
       "12         79       Dec"
      ]
     },
     "execution_count": 76,
     "metadata": {},
     "output_type": "execute_result"
    }
   ],
   "source": [
    "#Get the theft data grouped by month for year 2020\n",
    "VanTheftDF = VanBikeThefts.loc[VanBikeThefts['YEAR'] == 2020].groupby('MONTH').agg(Thefts = ('DAY', 'count'), MonthName = ('Month Name', 'first'))\n",
    "VanTheftDF"
   ]
  },
  {
   "cell_type": "code",
   "execution_count": 77,
   "metadata": {},
   "outputs": [
    {
     "name": "stdout",
     "output_type": "stream",
     "text": [
      "The correlation coefficient for bike thefts and covid cases for Vancouver 2020 is -0.13\n"
     ]
    }
   ],
   "source": [
    "#calculate the correlation\n",
    "correlation = st.pearsonr(VanTheftDF['Thefts'], Vc2020CovidDF['TotalCases'])\n",
    "print(f\"The correlation coefficient for bike thefts and covid cases for Vancouver 2020 is {round(correlation[0],2)}\")"
   ]
  },
  {
   "cell_type": "code",
   "execution_count": 78,
   "metadata": {},
   "outputs": [
    {
     "data": {
      "text/html": [
       "<div>\n",
       "<style scoped>\n",
       "    .dataframe tbody tr th:only-of-type {\n",
       "        vertical-align: middle;\n",
       "    }\n",
       "\n",
       "    .dataframe tbody tr th {\n",
       "        vertical-align: top;\n",
       "    }\n",
       "\n",
       "    .dataframe thead th {\n",
       "        text-align: right;\n",
       "    }\n",
       "</style>\n",
       "<table border=\"1\" class=\"dataframe\">\n",
       "  <thead>\n",
       "    <tr style=\"text-align: right;\">\n",
       "      <th></th>\n",
       "      <th>Thefts</th>\n",
       "      <th>MonthName</th>\n",
       "    </tr>\n",
       "    <tr>\n",
       "      <th>MONTH</th>\n",
       "      <th></th>\n",
       "      <th></th>\n",
       "    </tr>\n",
       "  </thead>\n",
       "  <tbody>\n",
       "    <tr>\n",
       "      <th>5</th>\n",
       "      <td>148</td>\n",
       "      <td>May</td>\n",
       "    </tr>\n",
       "    <tr>\n",
       "      <th>6</th>\n",
       "      <td>197</td>\n",
       "      <td>Jun</td>\n",
       "    </tr>\n",
       "    <tr>\n",
       "      <th>7</th>\n",
       "      <td>243</td>\n",
       "      <td>Jul</td>\n",
       "    </tr>\n",
       "    <tr>\n",
       "      <th>8</th>\n",
       "      <td>268</td>\n",
       "      <td>Aug</td>\n",
       "    </tr>\n",
       "    <tr>\n",
       "      <th>9</th>\n",
       "      <td>249</td>\n",
       "      <td>Sep</td>\n",
       "    </tr>\n",
       "    <tr>\n",
       "      <th>10</th>\n",
       "      <td>223</td>\n",
       "      <td>Oct</td>\n",
       "    </tr>\n",
       "  </tbody>\n",
       "</table>\n",
       "</div>"
      ],
      "text/plain": [
       "       Thefts MonthName\n",
       "MONTH                  \n",
       "5         148       May\n",
       "6         197       Jun\n",
       "7         243       Jul\n",
       "8         268       Aug\n",
       "9         249       Sep\n",
       "10        223       Oct"
      ]
     },
     "execution_count": 78,
     "metadata": {},
     "output_type": "execute_result"
    }
   ],
   "source": [
    "VanTheftDF1 = VanTheftDF.iloc[4:10, :]\n",
    "VanTheftDF1"
   ]
  },
  {
   "cell_type": "markdown",
   "metadata": {},
   "source": [
    "#### Line graph for number of bike thefts vs covid cases for Vancouver"
   ]
  },
  {
   "cell_type": "code",
   "execution_count": 79,
   "metadata": {
    "scrolled": true
   },
   "outputs": [
    {
     "data": {
      "image/png": "[encoded data removed]",
      "text/plain": [
       "<Figure size 720x360 with 2 Axes>"
      ]
     },
     "metadata": {
      "needs_background": "light"
     },
     "output_type": "display_data"
    }
   ],
   "source": [
    "\n",
    "#plotting lines for the covid cases and number of bike thefts\n",
    "fig, ax1 = plt.subplots()\n",
    "\n",
    "color = 'sienna'\n",
    "ax1.set_xlabel('2020')\n",
    "ax1.set_ylabel('Number of bike thefts', color=color)\n",
    "ax1.plot(VanTheftDF1['MonthName'], VanTheftDF1['Thefts'], color=color, linewidth=2.0, label='Number of bike thefts')\n",
    "ax1.tick_params(axis='y', labelcolor=color)\n",
    "\n",
    "# instantiate a second axes that shares the same x-axis\n",
    "ax2 = ax1.twinx()  \n",
    "\n",
    "color = 'dimgray'\n",
    "ax2.set_ylabel('Number of COVID-19 cases', color=color)  # we already handled the x-label with ax1\n",
    "ax2.plot(Vc2020CovidDF1['MonthName'], Vc2020CovidDF1['TotalCases'], color=color, linewidth=2.0, label='Number of COVID-19 cases')\n",
    "ax2.tick_params(axis='y', labelcolor=color)\n",
    "\n",
    "# otherwise the right y-label is slightly clipped\n",
    "fig.tight_layout()  \n",
    "plt.title('Number of bike thefts vs COVID-19 cases for Vancouver May- October')\n",
    "plt.grid()\n",
    "fig.set_size_inches(10, 5)\n",
    "\n",
    "lines_1, labels_1 = ax1.get_legend_handles_labels()\n",
    "lines_2, labels_2 = ax2.get_legend_handles_labels()\n",
    "\n",
    "lines = lines_1 + lines_2\n",
    "labels = labels_1 + labels_2\n",
    "\n",
    "ax1.legend(lines, labels, loc=2)\n",
    "plt.savefig(\"../analysis/CovidVsBikerThefts_Vancouver.png\")\n",
    "plt.show()"
   ]
  },
  {
   "cell_type": "code",
   "execution_count": 80,
   "metadata": {},
   "outputs": [
    {
     "name": "stdout",
     "output_type": "stream",
     "text": [
      "The correlation coefficient for bike thefts and covid cases between may and october is 0.56\n"
     ]
    },
    {
     "data": {
      "image/png": "[encoded data removed]",
      "text/plain": [
       "<Figure size 432x288 with 1 Axes>"
      ]
     },
     "metadata": {
      "needs_background": "light"
     },
     "output_type": "display_data"
    }
   ],
   "source": [
    "#Scatter plot for covid cases and bike volume\n",
    "y = VanTheftDF1['Thefts']\n",
    "x = Vc2020CovidDF1['TotalCases']\n",
    "\n",
    "correlation = st.pearsonr(x,y)\n",
    "print(f\"The correlation coefficient for bike thefts and covid cases between may and october is {round(correlation[0],2)}\")\n",
    "\n",
    "plt.scatter(x, y, color='sienna', s=100, alpha=0.8)\n",
    "plt.xlabel(\"Number of Covid Cases\")\n",
    "plt.ylabel(\"Number of bike thefts\")\n",
    "plt.title('COVID-19 cases vs bike volume for Vancouver - May to October')\n",
    "\n",
    "(slope, intercept, rvalue, pvalue, stderr) = linregress(x,y)\n",
    "regress_values = x * slope + intercept\n",
    "\n",
    "line_eq = \"y = \" + str(round(slope,2)) + \"x + \" + str(round(intercept,2))\n",
    "plt.plot(x,regress_values,\"r-\", color='red')\n",
    "plt.annotate(line_eq,(500,160),fontsize=15,color=\"red\")\n",
    "\n",
    "plt.savefig(\"../analysis/VcBikeTheftvsCOVIDMayOct1.png\")\n",
    "plt.show()"
   ]
  },
  {
   "cell_type": "markdown",
   "metadata": {},
   "source": [
    "### Observation"
   ]
  },
  {
   "cell_type": "markdown",
   "metadata": {},
   "source": [
    "The correlation coefficient for bike thefts and covid cases in Vancouver for 2020 is -0.13. It is 0.56 for months May to October.\n",
    "\n",
    "This implies that there is slight relationship between COVID-19 cases and bike thefts for Vancouver. The thefts tend to increase with the increase in Covid cases."
   ]
  },
  {
   "cell_type": "markdown",
   "metadata": {},
   "source": [
    "#### Summary Statistics for all the data"
   ]
  },
  {
   "cell_type": "code",
   "execution_count": 82,
   "metadata": {},
   "outputs": [
    {
     "data": {
      "text/html": [
       "<div>\n",
       "<style scoped>\n",
       "    .dataframe tbody tr th:only-of-type {\n",
       "        vertical-align: middle;\n",
       "    }\n",
       "\n",
       "    .dataframe tbody tr th {\n",
       "        vertical-align: top;\n",
       "    }\n",
       "\n",
       "    .dataframe thead th {\n",
       "        text-align: right;\n",
       "    }\n",
       "</style>\n",
       "<table border=\"1\" class=\"dataframe\">\n",
       "  <thead>\n",
       "    <tr style=\"text-align: right;\">\n",
       "      <th></th>\n",
       "      <th>Thefts</th>\n",
       "      <th>Covid Cases</th>\n",
       "      <th>Bikes Volume</th>\n",
       "    </tr>\n",
       "  </thead>\n",
       "  <tbody>\n",
       "    <tr>\n",
       "      <th>count</th>\n",
       "      <td>12.000000</td>\n",
       "      <td>12.000000</td>\n",
       "      <td>12.000000</td>\n",
       "    </tr>\n",
       "    <tr>\n",
       "      <th>mean</th>\n",
       "      <td>80.166667</td>\n",
       "      <td>845.916667</td>\n",
       "      <td>6017.075470</td>\n",
       "    </tr>\n",
       "    <tr>\n",
       "      <th>std</th>\n",
       "      <td>57.682254</td>\n",
       "      <td>827.295974</td>\n",
       "      <td>4004.088422</td>\n",
       "    </tr>\n",
       "    <tr>\n",
       "      <th>min</th>\n",
       "      <td>7.000000</td>\n",
       "      <td>0.000000</td>\n",
       "      <td>1558.620690</td>\n",
       "    </tr>\n",
       "    <tr>\n",
       "      <th>25%</th>\n",
       "      <td>21.750000</td>\n",
       "      <td>218.500000</td>\n",
       "      <td>2308.580645</td>\n",
       "    </tr>\n",
       "    <tr>\n",
       "      <th>50%</th>\n",
       "      <td>72.500000</td>\n",
       "      <td>485.000000</td>\n",
       "      <td>4842.716667</td>\n",
       "    </tr>\n",
       "    <tr>\n",
       "      <th>75%</th>\n",
       "      <td>124.250000</td>\n",
       "      <td>1411.250000</td>\n",
       "      <td>9793.580645</td>\n",
       "    </tr>\n",
       "    <tr>\n",
       "      <th>max</th>\n",
       "      <td>177.000000</td>\n",
       "      <td>2687.000000</td>\n",
       "      <td>12082.366667</td>\n",
       "    </tr>\n",
       "  </tbody>\n",
       "</table>\n",
       "</div>"
      ],
      "text/plain": [
       "           Thefts  Covid Cases  Bikes Volume\n",
       "count   12.000000    12.000000     12.000000\n",
       "mean    80.166667   845.916667   6017.075470\n",
       "std     57.682254   827.295974   4004.088422\n",
       "min      7.000000     0.000000   1558.620690\n",
       "25%     21.750000   218.500000   2308.580645\n",
       "50%     72.500000   485.000000   4842.716667\n",
       "75%    124.250000  1411.250000   9793.580645\n",
       "max    177.000000  2687.000000  12082.366667"
      ]
     },
     "execution_count": 82,
     "metadata": {},
     "output_type": "execute_result"
    }
   ],
   "source": [
    "# Get all the data for all the months\n",
    "OttHeatmapDF = OttTheftDF2020[['MonthName', 'Thefts']].copy()\n",
    "OttHeatmapDF['Covid Cases'] = OttGroupedCovidDF['TotalCases']\n",
    "OttHeatmapDF['Bikes Volume'] = bikeDF['BikeVolume']\n",
    "OttHeatmapDF.describe()"
   ]
  },
  {
   "cell_type": "code",
   "execution_count": null,
   "metadata": {},
   "outputs": [],
   "source": []
  }
 ],
 "metadata": {
  "kernelspec": {
   "display_name": "Python 3",
   "language": "python",
   "name": "python3"
  },
  "language_info": {
   "codemirror_mode": {
    "name": "ipython",
    "version": 3
   },
   "file_extension": ".py",
   "mimetype": "text/x-python",
   "name": "python",
   "nbconvert_exporter": "python",
   "pygments_lexer": "ipython3",
   "version": "3.8.5"
  }
 },
 "nbformat": 4,
 "nbformat_minor": 4
}
